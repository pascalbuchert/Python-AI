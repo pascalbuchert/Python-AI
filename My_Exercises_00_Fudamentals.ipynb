{
  "nbformat": 4,
  "nbformat_minor": 0,
  "metadata": {
    "colab": {
      "provenance": [],
      "authorship_tag": "ABX9TyNkyFunVarU4C7NrpKRj2B9",
      "include_colab_link": true
    },
    "kernelspec": {
      "name": "python3",
      "display_name": "Python 3"
    },
    "language_info": {
      "name": "python"
    }
  },
  "cells": [
    {
      "cell_type": "markdown",
      "metadata": {
        "id": "view-in-github",
        "colab_type": "text"
      },
      "source": [
        "<a href=\"https://colab.research.google.com/github/pascalbuchert/Python-AI/blob/main/My_Exercises_00_Fudamentals.ipynb\" target=\"_parent\"><img src=\"https://colab.research.google.com/assets/colab-badge.svg\" alt=\"Open In Colab\"/></a>"
      ]
    },
    {
      "cell_type": "code",
      "execution_count": null,
      "metadata": {
        "id": "1RlLQegz_HrP"
      },
      "outputs": [],
      "source": []
    },
    {
      "cell_type": "markdown",
      "source": [
        "# **00 TensorFlow Fundamentals Exercises**\n",
        "1, Create a vector, scalar, matrix and tensor with values of your choosing using tf.constant().\n",
        "\n",
        "2, Find the shape, rank and size of the tensors you created in 1.\n",
        "\n",
        "3, Create two tensors containing random values between 0 and 1 with shape [5, 300].\n",
        "4, Multiply the two tensors you created in 3 using matrix multiplication.\n",
        "\n",
        "5, Multiply the two tensors you created in 3 using dot product.\n",
        "\n",
        "6, Create a tensor with random values between 0 and 1 with shape [224, 224, 3].\n",
        "\n",
        "7, Find the min and max values of the tensor you created in 6.\n",
        "\n",
        "8, Created a tensor with random values of shape [1, 224, 224, 3] then squeeze it to change the shape to [224, 224, 3].\n",
        "\n",
        "9, Create a tensor with shape [10] using your own choice of values, then find the index which has the maximum value.\n",
        "\n",
        "10, One-hot encode the tensor you created in 9."
      ],
      "metadata": {
        "id": "I-qV_kOy_QQu"
      }
    },
    {
      "cell_type": "code",
      "source": [
        "import tensorflow as tf\n",
        "print(tf.__version__)"
      ],
      "metadata": {
        "id": "pZlWuLkhsfIe",
        "outputId": "19eabeb9-fe51-49dd-b656-17e18819b81a",
        "colab": {
          "base_uri": "https://localhost:8080/"
        }
      },
      "execution_count": 11,
      "outputs": [
        {
          "output_type": "stream",
          "name": "stdout",
          "text": [
            "2.15.0\n"
          ]
        }
      ]
    },
    {
      "cell_type": "code",
      "source": [
        "import numpy as np\n",
        "print (np.__version__)"
      ],
      "metadata": {
        "id": "jTFJJDahtq6I",
        "outputId": "d7fe0504-2110-4ab4-f3c7-bf87800be07a",
        "colab": {
          "base_uri": "https://localhost:8080/"
        }
      },
      "execution_count": 14,
      "outputs": [
        {
          "output_type": "stream",
          "name": "stdout",
          "text": [
            "1.25.2\n"
          ]
        }
      ]
    },
    {
      "cell_type": "code",
      "source": [
        "# Creating a scalar\n",
        "scalar = tf.constant(8)\n"
      ],
      "metadata": {
        "id": "LP84lWUfsTHR"
      },
      "execution_count": 5,
      "outputs": []
    },
    {
      "cell_type": "code",
      "source": [
        "scalar"
      ],
      "metadata": {
        "id": "0IOd3dnEs2Xo",
        "outputId": "41a3fb12-e1a3-4154-8a0f-5d8e2562e868",
        "colab": {
          "base_uri": "https://localhost:8080/"
        }
      },
      "execution_count": 6,
      "outputs": [
        {
          "output_type": "execute_result",
          "data": {
            "text/plain": [
              "<tf.Tensor: shape=(), dtype=int32, numpy=8>"
            ]
          },
          "metadata": {},
          "execution_count": 6
        }
      ]
    },
    {
      "cell_type": "code",
      "source": [
        "vector = tf.constant ([1,2,3])\n",
        "vector"
      ],
      "metadata": {
        "id": "0jeRwN6ls7Yv",
        "outputId": "9011a315-962c-4a7a-d2af-b0a51ef2b3b2",
        "colab": {
          "base_uri": "https://localhost:8080/"
        }
      },
      "execution_count": 15,
      "outputs": [
        {
          "output_type": "execute_result",
          "data": {
            "text/plain": [
              "<tf.Tensor: shape=(3,), dtype=int32, numpy=array([1, 2, 3], dtype=int32)>"
            ]
          },
          "metadata": {},
          "execution_count": 15
        }
      ]
    },
    {
      "cell_type": "code",
      "source": [],
      "metadata": {
        "id": "wtu_DW8huF-g"
      },
      "execution_count": null,
      "outputs": []
    }
  ]
}