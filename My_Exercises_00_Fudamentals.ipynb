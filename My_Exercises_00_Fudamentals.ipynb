{
  "nbformat": 4,
  "nbformat_minor": 0,
  "metadata": {
    "colab": {
      "provenance": [],
      "authorship_tag": "ABX9TyPOpr7udvgS7/16bVTmqtAP",
      "include_colab_link": true
    },
    "kernelspec": {
      "name": "python3",
      "display_name": "Python 3"
    },
    "language_info": {
      "name": "python"
    }
  },
  "cells": [
    {
      "cell_type": "markdown",
      "metadata": {
        "id": "view-in-github",
        "colab_type": "text"
      },
      "source": [
        "<a href=\"https://colab.research.google.com/github/pascalbuchert/Python-AI/blob/main/My_Exercises_00_Fudamentals.ipynb\" target=\"_parent\"><img src=\"https://colab.research.google.com/assets/colab-badge.svg\" alt=\"Open In Colab\"/></a>"
      ]
    },
    {
      "cell_type": "code",
      "execution_count": null,
      "metadata": {
        "id": "1RlLQegz_HrP"
      },
      "outputs": [],
      "source": []
    },
    {
      "cell_type": "markdown",
      "source": [
        "# **00 TensorFlow Fundamentals Exercises**\n",
        "1, Create a vector, scalar, matrix and tensor with values of your choosing using tf.constant().\n",
        "\n",
        "2, Find the shape, rank and size of the tensors you created in 1.\n",
        "\n",
        "3, Create two tensors containing random values between 0 and 1 with shape [5, 300].\n",
        "4, Multiply the two tensors you created in 3 using matrix multiplication.\n",
        "\n",
        "5, Multiply the two tensors you created in 3 using dot product.\n",
        "\n",
        "6, Create a tensor with random values between 0 and 1 with shape [224, 224, 3].\n",
        "\n",
        "7, Find the min and max values of the tensor you created in 6.\n",
        "\n",
        "8, Created a tensor with random values of shape [1, 224, 224, 3] then squeeze it to change the shape to [224, 224, 3].\n",
        "\n",
        "9, Create a tensor with shape [10] using your own choice of values, then find the index which has the maximum value.\n",
        "\n",
        "10, One-hot encode the tensor you created in 9."
      ],
      "metadata": {
        "id": "I-qV_kOy_QQu"
      }
    }
  ]
}