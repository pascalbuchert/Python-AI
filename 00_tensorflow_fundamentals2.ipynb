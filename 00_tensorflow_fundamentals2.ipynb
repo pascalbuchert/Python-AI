{
  "nbformat": 4,
  "nbformat_minor": 0,
  "metadata": {
    "colab": {
      "provenance": []
    },
    "kernelspec": {
      "name": "python3",
      "display_name": "Python 3"
    },
    "language_info": {
      "name": "python"
    }
  },
  "cells": [
    {
      "cell_type": "code",
      "execution_count": null,
      "metadata": {
        "id": "8c0JtmWElTr_"
      },
      "outputs": [],
      "source": []
    },
    {
      "cell_type": "code",
      "source": [
        "import tensorflow as tf\n",
        "print(tf.__version__)"
      ],
      "metadata": {
        "colab": {
          "base_uri": "https://localhost:8080/"
        },
        "id": "ie3XWuJAgmtf",
        "outputId": "21199083-ac03-45d1-ae36-e695a46e4f9d"
      },
      "execution_count": 2,
      "outputs": [
        {
          "output_type": "stream",
          "name": "stdout",
          "text": [
            "2.15.0\n"
          ]
        }
      ]
    },
    {
      "cell_type": "code",
      "source": [
        "# create first tensor with tf.constant()\n",
        "scalar= tf.constant(7)\n",
        "scalar"
      ],
      "metadata": {
        "colab": {
          "base_uri": "https://localhost:8080/"
        },
        "id": "k3lCt5JPlchJ",
        "outputId": "ac08b17e-abe8-44d3-a755-477b4754bede"
      },
      "execution_count": null,
      "outputs": [
        {
          "output_type": "execute_result",
          "data": {
            "text/plain": [
              "<tf.Tensor: shape=(), dtype=int32, numpy=7>"
            ]
          },
          "metadata": {},
          "execution_count": 2
        }
      ]
    },
    {
      "cell_type": "code",
      "source": [
        "#number of dimensiosn of the tensor\n",
        "scalar.ndim"
      ],
      "metadata": {
        "colab": {
          "base_uri": "https://localhost:8080/"
        },
        "id": "YWgdkxdTlktB",
        "outputId": "b41698ed-9e87-4f26-dff7-315e89e7a6c2"
      },
      "execution_count": null,
      "outputs": [
        {
          "output_type": "execute_result",
          "data": {
            "text/plain": [
              "0"
            ]
          },
          "metadata": {},
          "execution_count": 3
        }
      ]
    },
    {
      "cell_type": "code",
      "source": [
        "# create a vector\n",
        "vector=tf.constant([10,10])\n",
        "vector"
      ],
      "metadata": {
        "colab": {
          "base_uri": "https://localhost:8080/"
        },
        "id": "U2MNuNAwlodW",
        "outputId": "54c524ff-770d-4e3b-a79c-bb8c5796801a"
      },
      "execution_count": null,
      "outputs": [
        {
          "output_type": "execute_result",
          "data": {
            "text/plain": [
              "<tf.Tensor: shape=(2,), dtype=int32, numpy=array([10, 10], dtype=int32)>"
            ]
          },
          "metadata": {},
          "execution_count": 6
        }
      ]
    },
    {
      "cell_type": "code",
      "source": [
        "vector.ndim"
      ],
      "metadata": {
        "colab": {
          "base_uri": "https://localhost:8080/"
        },
        "id": "dGc9YNQgl4E9",
        "outputId": "42c361e4-6ebb-4697-a97b-cca618b7d8cb"
      },
      "execution_count": null,
      "outputs": [
        {
          "output_type": "execute_result",
          "data": {
            "text/plain": [
              "1"
            ]
          },
          "metadata": {},
          "execution_count": 7
        }
      ]
    },
    {
      "cell_type": "code",
      "source": [
        "# create a matrix\n",
        "matrix=tf.constant([[10,7,1,0],[7,10,3,6]])\n",
        "matrix"
      ],
      "metadata": {
        "colab": {
          "base_uri": "https://localhost:8080/"
        },
        "id": "-91QPQwrl6vj",
        "outputId": "15a1d46e-020e-4da3-c8e7-815e094bec74"
      },
      "execution_count": null,
      "outputs": [
        {
          "output_type": "execute_result",
          "data": {
            "text/plain": [
              "<tf.Tensor: shape=(2, 4), dtype=int32, numpy=\n",
              "array([[10,  7,  1,  0],\n",
              "       [ 7, 10,  3,  6]], dtype=int32)>"
            ]
          },
          "metadata": {},
          "execution_count": 10
        }
      ]
    },
    {
      "cell_type": "code",
      "source": [
        "matrix.ndim"
      ],
      "metadata": {
        "colab": {
          "base_uri": "https://localhost:8080/"
        },
        "id": "oL2wLKC9mB1Z",
        "outputId": "786ac31d-547a-4d41-953a-204811248dba"
      },
      "execution_count": null,
      "outputs": [
        {
          "output_type": "execute_result",
          "data": {
            "text/plain": [
              "2"
            ]
          },
          "metadata": {},
          "execution_count": 9
        }
      ]
    },
    {
      "cell_type": "code",
      "source": [
        "another_matrix=tf.constant([[10.,7.], [3.,2],[8,9]],dtype=tf.float16)\n",
        "another_matrix"
      ],
      "metadata": {
        "colab": {
          "base_uri": "https://localhost:8080/"
        },
        "id": "cp_i-KOOmR2h",
        "outputId": "8a0df7fc-542b-4265-95e7-5669b7cc7574"
      },
      "execution_count": null,
      "outputs": [
        {
          "output_type": "execute_result",
          "data": {
            "text/plain": [
              "<tf.Tensor: shape=(3, 2), dtype=float16, numpy=\n",
              "array([[10.,  7.],\n",
              "       [ 3.,  2.],\n",
              "       [ 8.,  9.]], dtype=float16)>"
            ]
          },
          "metadata": {},
          "execution_count": 11
        }
      ]
    },
    {
      "cell_type": "code",
      "source": [
        "another_matrix.ndim"
      ],
      "metadata": {
        "colab": {
          "base_uri": "https://localhost:8080/"
        },
        "id": "kW2A2kAKmZUO",
        "outputId": "4ae2c0fd-9975-4757-fd77-e35bfd1f1ed1"
      },
      "execution_count": null,
      "outputs": [
        {
          "output_type": "execute_result",
          "data": {
            "text/plain": [
              "2"
            ]
          },
          "metadata": {},
          "execution_count": 12
        }
      ]
    },
    {
      "cell_type": "code",
      "source": [
        "#create a tensor\n",
        "tensor=tf.constant([[[1,2,3],[4,5,6]],\n",
        "[[7,8,9], [10,11,12]],\n",
        "[[13,14,15],[16,17,18]]])\n",
        "tensor"
      ],
      "metadata": {
        "colab": {
          "base_uri": "https://localhost:8080/"
        },
        "id": "eLOfkGX9m9K1",
        "outputId": "49b4d9b2-3402-432a-c604-38f6e442ed1d"
      },
      "execution_count": null,
      "outputs": [
        {
          "output_type": "execute_result",
          "data": {
            "text/plain": [
              "<tf.Tensor: shape=(3, 2, 3), dtype=int32, numpy=\n",
              "array([[[ 1,  2,  3],\n",
              "        [ 4,  5,  6]],\n",
              "\n",
              "       [[ 7,  8,  9],\n",
              "        [10, 11, 12]],\n",
              "\n",
              "       [[13, 14, 15],\n",
              "        [16, 17, 18]]], dtype=int32)>"
            ]
          },
          "metadata": {},
          "execution_count": 13
        }
      ]
    },
    {
      "cell_type": "code",
      "source": [
        "tensor.ndim"
      ],
      "metadata": {
        "colab": {
          "base_uri": "https://localhost:8080/"
        },
        "id": "797-XS92nPR6",
        "outputId": "32adffbb-ffca-422e-ca41-be6c441cbbc4"
      },
      "execution_count": null,
      "outputs": [
        {
          "output_type": "execute_result",
          "data": {
            "text/plain": [
              "3"
            ]
          },
          "metadata": {},
          "execution_count": 14
        }
      ]
    },
    {
      "cell_type": "code",
      "source": [
        "tensor1=tf.constant([[1],[2],[3]])\n",
        "tensor1"
      ],
      "metadata": {
        "colab": {
          "base_uri": "https://localhost:8080/"
        },
        "id": "Irl5U-05nU-b",
        "outputId": "afe960a8-047e-4852-b1eb-c320f139d409"
      },
      "execution_count": null,
      "outputs": [
        {
          "output_type": "execute_result",
          "data": {
            "text/plain": [
              "<tf.Tensor: shape=(3, 1), dtype=int32, numpy=\n",
              "array([[1],\n",
              "       [2],\n",
              "       [3]], dtype=int32)>"
            ]
          },
          "metadata": {},
          "execution_count": 15
        }
      ]
    },
    {
      "cell_type": "code",
      "source": [
        "tensor1.ndim"
      ],
      "metadata": {
        "colab": {
          "base_uri": "https://localhost:8080/"
        },
        "id": "A0XRl8Bfnljl",
        "outputId": "364f3472-7020-4ffa-dd2e-40983359e594"
      },
      "execution_count": null,
      "outputs": [
        {
          "output_type": "execute_result",
          "data": {
            "text/plain": [
              "2"
            ]
          },
          "metadata": {},
          "execution_count": 16
        }
      ]
    },
    {
      "cell_type": "code",
      "source": [
        "tensor2=tf.constant([[[1,2,3],[3,4,3],[5,6,3],[0,0,3]],\n",
        "                     [[7,8,3],[9,10,3],[11,12,3],[1,1,3]]])\n",
        "tensor2"
      ],
      "metadata": {
        "colab": {
          "base_uri": "https://localhost:8080/"
        },
        "id": "xApzNqC8tw_A",
        "outputId": "0732a423-7b22-4f54-d8ed-448ae89a8e33"
      },
      "execution_count": null,
      "outputs": [
        {
          "output_type": "execute_result",
          "data": {
            "text/plain": [
              "<tf.Tensor: shape=(2, 4, 3), dtype=int32, numpy=\n",
              "array([[[ 1,  2,  3],\n",
              "        [ 3,  4,  3],\n",
              "        [ 5,  6,  3],\n",
              "        [ 0,  0,  3]],\n",
              "\n",
              "       [[ 7,  8,  3],\n",
              "        [ 9, 10,  3],\n",
              "        [11, 12,  3],\n",
              "        [ 1,  1,  3]]], dtype=int32)>"
            ]
          },
          "metadata": {},
          "execution_count": 20
        }
      ]
    },
    {
      "cell_type": "code",
      "source": [
        "tensor2.ndim"
      ],
      "metadata": {
        "colab": {
          "base_uri": "https://localhost:8080/"
        },
        "id": "5VXFg4lKu8pm",
        "outputId": "d92e733d-646c-4e20-df13-7db398edd0d2"
      },
      "execution_count": null,
      "outputs": [
        {
          "output_type": "execute_result",
          "data": {
            "text/plain": [
              "3"
            ]
          },
          "metadata": {},
          "execution_count": 21
        }
      ]
    },
    {
      "cell_type": "code",
      "source": [
        "tensor3=tf.constant([[[1,2,3],[3,4,3],[5,6,3],[0,0,3]],\n",
        "                     [[1,2,3],[3,4,3],[5,6,3],[0,0,3]],\n",
        "                     [[1,2,3],[3,4,3],[5,6,3],[0,0,3]],\n",
        "                     [[1,2,3],[3,4,3],[5,6,3],[0,0,3]],\n",
        "                     [[7,8,3],[9,10,3],[11,12,3],[1,1,3]]])\n",
        "tensor3"
      ],
      "metadata": {
        "colab": {
          "base_uri": "https://localhost:8080/"
        },
        "id": "expcUVFyvKnU",
        "outputId": "1030c551-207f-4a95-f566-9c5597e2e46e"
      },
      "execution_count": null,
      "outputs": [
        {
          "output_type": "execute_result",
          "data": {
            "text/plain": [
              "<tf.Tensor: shape=(5, 4, 3), dtype=int32, numpy=\n",
              "array([[[ 1,  2,  3],\n",
              "        [ 3,  4,  3],\n",
              "        [ 5,  6,  3],\n",
              "        [ 0,  0,  3]],\n",
              "\n",
              "       [[ 1,  2,  3],\n",
              "        [ 3,  4,  3],\n",
              "        [ 5,  6,  3],\n",
              "        [ 0,  0,  3]],\n",
              "\n",
              "       [[ 1,  2,  3],\n",
              "        [ 3,  4,  3],\n",
              "        [ 5,  6,  3],\n",
              "        [ 0,  0,  3]],\n",
              "\n",
              "       [[ 1,  2,  3],\n",
              "        [ 3,  4,  3],\n",
              "        [ 5,  6,  3],\n",
              "        [ 0,  0,  3]],\n",
              "\n",
              "       [[ 7,  8,  3],\n",
              "        [ 9, 10,  3],\n",
              "        [11, 12,  3],\n",
              "        [ 1,  1,  3]]], dtype=int32)>"
            ]
          },
          "metadata": {},
          "execution_count": 22
        }
      ]
    },
    {
      "cell_type": "code",
      "source": [
        "tensor3.ndim"
      ],
      "metadata": {
        "colab": {
          "base_uri": "https://localhost:8080/"
        },
        "id": "nO6sAAOJvXiz",
        "outputId": "3e519eac-50b9-4534-ab67-724fb5ef3b07"
      },
      "execution_count": null,
      "outputs": [
        {
          "output_type": "execute_result",
          "data": {
            "text/plain": [
              "3"
            ]
          },
          "metadata": {},
          "execution_count": 23
        }
      ]
    },
    {
      "cell_type": "code",
      "source": [
        "tensor4d=tf.constant([\n",
        "                      [[[1,2,3],[3,4,3],[5,6,3],[0,0,3]],\n",
        "                      [[1,2,3],[3,4,3],[5,6,3],[0,0,3]],\n",
        "                      [[1,2,3],[3,4,3],[5,6,3],[0,0,3]],\n",
        "                      [[1,2,3],[3,4,3],[5,6,3],[0,0,3]],\n",
        "                      [[7,8,3],[9,10,3],[11,12,3],[1,1,3]]],\n",
        "\n",
        "                      [[[1,2,3],[3,4,3],[5,6,3],[0,0,3]],\n",
        "                      [[1,2,3],[3,4,3],[5,6,3],[0,0,3]],\n",
        "                      [[1,2,3],[3,4,3],[5,6,3],[0,0,3]],\n",
        "                      [[1,2,3],[3,4,3],[5,6,3],[0,0,3]],\n",
        "                      [[7,8,3],[9,10,3],[11,12,3],[1,1,3]]]\n",
        "                    ]\n",
        "                    )\n",
        "tensor4d"
      ],
      "metadata": {
        "colab": {
          "base_uri": "https://localhost:8080/"
        },
        "id": "Kw6iDINAvu67",
        "outputId": "d9508418-b06e-4b1f-d6db-02076a69b097"
      },
      "execution_count": null,
      "outputs": [
        {
          "output_type": "execute_result",
          "data": {
            "text/plain": [
              "<tf.Tensor: shape=(2, 5, 4, 3), dtype=int32, numpy=\n",
              "array([[[[ 1,  2,  3],\n",
              "         [ 3,  4,  3],\n",
              "         [ 5,  6,  3],\n",
              "         [ 0,  0,  3]],\n",
              "\n",
              "        [[ 1,  2,  3],\n",
              "         [ 3,  4,  3],\n",
              "         [ 5,  6,  3],\n",
              "         [ 0,  0,  3]],\n",
              "\n",
              "        [[ 1,  2,  3],\n",
              "         [ 3,  4,  3],\n",
              "         [ 5,  6,  3],\n",
              "         [ 0,  0,  3]],\n",
              "\n",
              "        [[ 1,  2,  3],\n",
              "         [ 3,  4,  3],\n",
              "         [ 5,  6,  3],\n",
              "         [ 0,  0,  3]],\n",
              "\n",
              "        [[ 7,  8,  3],\n",
              "         [ 9, 10,  3],\n",
              "         [11, 12,  3],\n",
              "         [ 1,  1,  3]]],\n",
              "\n",
              "\n",
              "       [[[ 1,  2,  3],\n",
              "         [ 3,  4,  3],\n",
              "         [ 5,  6,  3],\n",
              "         [ 0,  0,  3]],\n",
              "\n",
              "        [[ 1,  2,  3],\n",
              "         [ 3,  4,  3],\n",
              "         [ 5,  6,  3],\n",
              "         [ 0,  0,  3]],\n",
              "\n",
              "        [[ 1,  2,  3],\n",
              "         [ 3,  4,  3],\n",
              "         [ 5,  6,  3],\n",
              "         [ 0,  0,  3]],\n",
              "\n",
              "        [[ 1,  2,  3],\n",
              "         [ 3,  4,  3],\n",
              "         [ 5,  6,  3],\n",
              "         [ 0,  0,  3]],\n",
              "\n",
              "        [[ 7,  8,  3],\n",
              "         [ 9, 10,  3],\n",
              "         [11, 12,  3],\n",
              "         [ 1,  1,  3]]]], dtype=int32)>"
            ]
          },
          "metadata": {},
          "execution_count": 28
        }
      ]
    },
    {
      "cell_type": "code",
      "source": [
        "tensor4d.ndim"
      ],
      "metadata": {
        "colab": {
          "base_uri": "https://localhost:8080/"
        },
        "id": "STcLbTJtwhSY",
        "outputId": "2df25f78-864d-4cf2-e82c-3e0cc6e13263"
      },
      "execution_count": null,
      "outputs": [
        {
          "output_type": "execute_result",
          "data": {
            "text/plain": [
              "4"
            ]
          },
          "metadata": {},
          "execution_count": 29
        }
      ]
    },
    {
      "cell_type": "code",
      "source": [
        "tensor5d=tf.constant([[[[[1],[2]],\n",
        "                        [[1],[3]],\n",
        "                        [[1],[3]]],\n",
        "\n",
        "                       [[[1],[2]],\n",
        "                        [[1],[3]],\n",
        "                        [[1],[3]]]],\n",
        "\n",
        "                      [[[[1],[2]],\n",
        "                        [[1],[3]],\n",
        "                        [[1],[3]]],\n",
        "\n",
        "                       [[[1],[2]],\n",
        "                        [[1],[3]],\n",
        "                        [[1],[3]]]]])\n",
        "\n",
        "tensor5d"
      ],
      "metadata": {
        "colab": {
          "base_uri": "https://localhost:8080/"
        },
        "id": "J4cdb0EWwwVZ",
        "outputId": "49173242-ccb9-47d5-8c29-ec38976cd31d"
      },
      "execution_count": null,
      "outputs": [
        {
          "output_type": "execute_result",
          "data": {
            "text/plain": [
              "<tf.Tensor: shape=(2, 2, 3, 2, 1), dtype=int32, numpy=\n",
              "array([[[[[1],\n",
              "          [2]],\n",
              "\n",
              "         [[1],\n",
              "          [3]],\n",
              "\n",
              "         [[1],\n",
              "          [3]]],\n",
              "\n",
              "\n",
              "        [[[1],\n",
              "          [2]],\n",
              "\n",
              "         [[1],\n",
              "          [3]],\n",
              "\n",
              "         [[1],\n",
              "          [3]]]],\n",
              "\n",
              "\n",
              "\n",
              "       [[[[1],\n",
              "          [2]],\n",
              "\n",
              "         [[1],\n",
              "          [3]],\n",
              "\n",
              "         [[1],\n",
              "          [3]]],\n",
              "\n",
              "\n",
              "        [[[1],\n",
              "          [2]],\n",
              "\n",
              "         [[1],\n",
              "          [3]],\n",
              "\n",
              "         [[1],\n",
              "          [3]]]]], dtype=int32)>"
            ]
          },
          "metadata": {},
          "execution_count": 31
        }
      ]
    },
    {
      "cell_type": "code",
      "source": [
        "tensor5d.ndim"
      ],
      "metadata": {
        "colab": {
          "base_uri": "https://localhost:8080/"
        },
        "id": "JTkOd2dGyFZQ",
        "outputId": "d9f0759a-83b1-43c3-f989-8f83efa2164b"
      },
      "execution_count": null,
      "outputs": [
        {
          "output_type": "execute_result",
          "data": {
            "text/plain": [
              "5"
            ]
          },
          "metadata": {},
          "execution_count": 32
        }
      ]
    },
    {
      "cell_type": "code",
      "source": [
        "# variables\n",
        "changeable_tensor=tf.Variable([10,7])\n",
        "unchangeable_tensor=tf.constant([11,7])\n",
        "changeable_tensor,unchangeable_tensor\n"
      ],
      "metadata": {
        "colab": {
          "base_uri": "https://localhost:8080/"
        },
        "id": "JnufyObCCR5v",
        "outputId": "b1a956c7-566d-456e-e2b2-9b203aeb8e8e"
      },
      "execution_count": 4,
      "outputs": [
        {
          "output_type": "execute_result",
          "data": {
            "text/plain": [
              "(<tf.Variable 'Variable:0' shape=(2,) dtype=int32, numpy=array([10,  7], dtype=int32)>,\n",
              " <tf.Tensor: shape=(2,), dtype=int32, numpy=array([11,  7], dtype=int32)>)"
            ]
          },
          "metadata": {},
          "execution_count": 4
        }
      ]
    },
    {
      "cell_type": "code",
      "source": [
        "# Use assign()\n",
        "changeable_tensor[0].assign(6)\n",
        "changeable_tensor[1].assign(8)\n",
        "\n",
        "changeable_tensor"
      ],
      "metadata": {
        "colab": {
          "base_uri": "https://localhost:8080/"
        },
        "id": "OwHH1qoM0dA_",
        "outputId": "d5a59505-28d6-48e0-88fc-7d33025ac843"
      },
      "execution_count": 5,
      "outputs": [
        {
          "output_type": "execute_result",
          "data": {
            "text/plain": [
              "<tf.Variable 'Variable:0' shape=(2,) dtype=int32, numpy=array([6, 8], dtype=int32)>"
            ]
          },
          "metadata": {},
          "execution_count": 5
        }
      ]
    },
    {
      "cell_type": "code",
      "source": [
        "# Try change unchaneaglbe tensor\n",
        "unchangeable_tensor[0].assign(6)\n",
        "unchangeable_tensor"
      ],
      "metadata": {
        "colab": {
          "base_uri": "https://localhost:8080/",
          "height": 297
        },
        "id": "g-pkoH7j0lsd",
        "outputId": "3e3e70b3-afb1-4636-ad3d-d68bed665ebb"
      },
      "execution_count": 6,
      "outputs": [
        {
          "output_type": "error",
          "ename": "AttributeError",
          "evalue": "'tensorflow.python.framework.ops.EagerTensor' object has no attribute 'assign'",
          "traceback": [
            "\u001b[0;31m---------------------------------------------------------------------------\u001b[0m",
            "\u001b[0;31mAttributeError\u001b[0m                            Traceback (most recent call last)",
            "\u001b[0;32m<ipython-input-6-8a10d730ea46>\u001b[0m in \u001b[0;36m<cell line: 2>\u001b[0;34m()\u001b[0m\n\u001b[1;32m      1\u001b[0m \u001b[0;31m# Try change unchaneaglbe tensor\u001b[0m\u001b[0;34m\u001b[0m\u001b[0;34m\u001b[0m\u001b[0m\n\u001b[0;32m----> 2\u001b[0;31m \u001b[0munchangeable_tensor\u001b[0m\u001b[0;34m[\u001b[0m\u001b[0;36m0\u001b[0m\u001b[0;34m]\u001b[0m\u001b[0;34m.\u001b[0m\u001b[0massign\u001b[0m\u001b[0;34m(\u001b[0m\u001b[0;36m6\u001b[0m\u001b[0;34m)\u001b[0m\u001b[0;34m\u001b[0m\u001b[0;34m\u001b[0m\u001b[0m\n\u001b[0m\u001b[1;32m      3\u001b[0m \u001b[0munchangeable_tensor\u001b[0m\u001b[0;34m\u001b[0m\u001b[0;34m\u001b[0m\u001b[0m\n",
            "\u001b[0;32m/usr/local/lib/python3.10/dist-packages/tensorflow/python/framework/tensor.py\u001b[0m in \u001b[0;36m__getattr__\u001b[0;34m(self, name)\u001b[0m\n\u001b[1;32m    259\u001b[0m         \u001b[0mtf\u001b[0m\u001b[0;34m.\u001b[0m\u001b[0mexperimental\u001b[0m\u001b[0;34m.\u001b[0m\u001b[0mnumpy\u001b[0m\u001b[0;34m.\u001b[0m\u001b[0mexperimental_enable_numpy_behavior\u001b[0m\u001b[0;34m(\u001b[0m\u001b[0;34m)\u001b[0m\u001b[0;34m\u001b[0m\u001b[0;34m\u001b[0m\u001b[0m\n\u001b[1;32m    260\u001b[0m       \"\"\")\n\u001b[0;32m--> 261\u001b[0;31m     \u001b[0mself\u001b[0m\u001b[0;34m.\u001b[0m\u001b[0m__getattribute__\u001b[0m\u001b[0;34m(\u001b[0m\u001b[0mname\u001b[0m\u001b[0;34m)\u001b[0m\u001b[0;34m\u001b[0m\u001b[0;34m\u001b[0m\u001b[0m\n\u001b[0m\u001b[1;32m    262\u001b[0m \u001b[0;34m\u001b[0m\u001b[0m\n\u001b[1;32m    263\u001b[0m   \u001b[0;34m@\u001b[0m\u001b[0mproperty\u001b[0m\u001b[0;34m\u001b[0m\u001b[0;34m\u001b[0m\u001b[0m\n",
            "\u001b[0;31mAttributeError\u001b[0m: 'tensorflow.python.framework.ops.EagerTensor' object has no attribute 'assign'"
          ]
        }
      ]
    },
    {
      "cell_type": "code",
      "source": [
        "# create random tensors\n",
        "\n",
        "random_tensor1=tf.random.Generator.from_seed(42)   # set seed for reproducibility\n",
        "random_tensor1= random_tensor1.normal(shape=(3,2))\n",
        "random_tensor1"
      ],
      "metadata": {
        "colab": {
          "base_uri": "https://localhost:8080/"
        },
        "id": "vkC8fZJ50uIc",
        "outputId": "65a4ca86-2357-4540-cb9b-8b5db7cd7774"
      },
      "execution_count": 13,
      "outputs": [
        {
          "output_type": "execute_result",
          "data": {
            "text/plain": [
              "<tf.Tensor: shape=(3, 2), dtype=float32, numpy=\n",
              "array([[-0.7565803 , -0.06854702],\n",
              "       [ 0.07595026, -1.2573844 ],\n",
              "       [-0.23193763, -1.8107855 ]], dtype=float32)>"
            ]
          },
          "metadata": {},
          "execution_count": 13
        }
      ]
    },
    {
      "cell_type": "code",
      "source": [
        "# create random tensors changing all the time (No Seed)\n",
        "\n",
        "random_tensor2=tf.random.Generator.from_non_deterministic_state()   # set seed for reproducibility\n",
        "random_tensor2= random_tensor2.normal(shape=(3,2))\n",
        "random_tensor2"
      ],
      "metadata": {
        "colab": {
          "base_uri": "https://localhost:8080/"
        },
        "id": "fHSfAJY61D8_",
        "outputId": "0d5e9cf0-2d4d-4e5d-c0ec-8e2770e4aad5"
      },
      "execution_count": 32,
      "outputs": [
        {
          "output_type": "execute_result",
          "data": {
            "text/plain": [
              "<tf.Tensor: shape=(3, 2), dtype=float32, numpy=\n",
              "array([[-0.03292066,  1.0393177 ],\n",
              "       [-0.56649524, -0.12137437],\n",
              "       [ 0.49244252, -1.4064096 ]], dtype=float32)>"
            ]
          },
          "metadata": {},
          "execution_count": 32
        }
      ]
    },
    {
      "cell_type": "code",
      "source": [
        "# are there equal\n",
        "random_tensor1== random_tensor2"
      ],
      "metadata": {
        "colab": {
          "base_uri": "https://localhost:8080/"
        },
        "id": "-fooGVju2UGY",
        "outputId": "af60a9c4-6ab8-497e-c2ae-d0b5fb2f4693"
      },
      "execution_count": 33,
      "outputs": [
        {
          "output_type": "execute_result",
          "data": {
            "text/plain": [
              "<tf.Tensor: shape=(3, 2), dtype=bool, numpy=\n",
              "array([[False, False],\n",
              "       [False, False],\n",
              "       [False, False]])>"
            ]
          },
          "metadata": {},
          "execution_count": 33
        }
      ]
    },
    {
      "cell_type": "code",
      "source": [
        "# Shuffle the order of elements in a tensor\n",
        "not_shuffled=tf.constant([[1,2],\n",
        "                          [3,4],\n",
        "                          [5,6]])\n",
        "not_shuffled"
      ],
      "metadata": {
        "id": "0ozV_5PU2lUG",
        "outputId": "bc8bac84-19dc-49be-bb95-03da07e2f31c",
        "colab": {
          "base_uri": "https://localhost:8080/"
        }
      },
      "execution_count": 45,
      "outputs": [
        {
          "output_type": "execute_result",
          "data": {
            "text/plain": [
              "<tf.Tensor: shape=(3, 2), dtype=int32, numpy=\n",
              "array([[1, 2],\n",
              "       [3, 4],\n",
              "       [5, 6]], dtype=int32)>"
            ]
          },
          "metadata": {},
          "execution_count": 45
        }
      ]
    },
    {
      "cell_type": "code",
      "source": [
        "tf.random.shuffle(not_shuffled)\n"
      ],
      "metadata": {
        "id": "_bUm8XE72rh6",
        "outputId": "440ce4cc-1b9b-4f72-afc4-21313ca7ea82",
        "colab": {
          "base_uri": "https://localhost:8080/"
        }
      },
      "execution_count": 46,
      "outputs": [
        {
          "output_type": "execute_result",
          "data": {
            "text/plain": [
              "<tf.Tensor: shape=(3, 2), dtype=int32, numpy=\n",
              "array([[3, 4],\n",
              "       [5, 6],\n",
              "       [1, 2]], dtype=int32)>"
            ]
          },
          "metadata": {},
          "execution_count": 46
        }
      ]
    },
    {
      "cell_type": "code",
      "source": [
        "not_shuffled"
      ],
      "metadata": {
        "id": "xB1rro2R2_ur",
        "outputId": "47e684ee-4a10-41e2-f042-03589ae3d4de",
        "colab": {
          "base_uri": "https://localhost:8080/"
        }
      },
      "execution_count": 47,
      "outputs": [
        {
          "output_type": "execute_result",
          "data": {
            "text/plain": [
              "<tf.Tensor: shape=(3, 2), dtype=int32, numpy=\n",
              "array([[1, 2],\n",
              "       [3, 4],\n",
              "       [5, 6]], dtype=int32)>"
            ]
          },
          "metadata": {},
          "execution_count": 47
        }
      ]
    },
    {
      "cell_type": "code",
      "source": [
        "tf.random.set_seed(42)   # global seed\n",
        "tf.random.shuffle(not_shuffled, seed=42 )  # operation seed"
      ],
      "metadata": {
        "id": "lkjgkAwP3Hwh",
        "outputId": "37d44b51-e63c-45a0-9b4f-28f61117529f",
        "colab": {
          "base_uri": "https://localhost:8080/"
        }
      },
      "execution_count": 51,
      "outputs": [
        {
          "output_type": "execute_result",
          "data": {
            "text/plain": [
              "<tf.Tensor: shape=(3, 2), dtype=int32, numpy=\n",
              "array([[1, 2],\n",
              "       [3, 4],\n",
              "       [5, 6]], dtype=int32)>"
            ]
          },
          "metadata": {},
          "execution_count": 51
        }
      ]
    }
  ]
}