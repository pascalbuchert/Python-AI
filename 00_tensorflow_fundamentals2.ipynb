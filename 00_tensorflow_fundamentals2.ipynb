{
  "nbformat": 4,
  "nbformat_minor": 0,
  "metadata": {
    "colab": {
      "provenance": []
    },
    "kernelspec": {
      "name": "python3",
      "display_name": "Python 3"
    },
    "language_info": {
      "name": "python"
    }
  },
  "cells": [
    {
      "cell_type": "code",
      "execution_count": null,
      "metadata": {
        "id": "8c0JtmWElTr_"
      },
      "outputs": [],
      "source": []
    },
    {
      "cell_type": "code",
      "source": [
        "import tensorflow as tf\n",
        "print(tf.__version__)"
      ],
      "metadata": {
        "colab": {
          "base_uri": "https://localhost:8080/"
        },
        "id": "ie3XWuJAgmtf",
        "outputId": "abca3fb5-e41d-4e61-cd11-e01d428689aa"
      },
      "execution_count": 1,
      "outputs": [
        {
          "output_type": "stream",
          "name": "stdout",
          "text": [
            "2.15.0\n"
          ]
        }
      ]
    },
    {
      "cell_type": "code",
      "source": [
        "# create first tensor with tf.constant()\n",
        "scalar= tf.constant(7)\n",
        "scalar"
      ],
      "metadata": {
        "colab": {
          "base_uri": "https://localhost:8080/"
        },
        "id": "k3lCt5JPlchJ",
        "outputId": "ac08b17e-abe8-44d3-a755-477b4754bede"
      },
      "execution_count": 2,
      "outputs": [
        {
          "output_type": "execute_result",
          "data": {
            "text/plain": [
              "<tf.Tensor: shape=(), dtype=int32, numpy=7>"
            ]
          },
          "metadata": {},
          "execution_count": 2
        }
      ]
    },
    {
      "cell_type": "code",
      "source": [
        "#number of dimensiosn of the tensor\n",
        "scalar.ndim"
      ],
      "metadata": {
        "colab": {
          "base_uri": "https://localhost:8080/"
        },
        "id": "YWgdkxdTlktB",
        "outputId": "b41698ed-9e87-4f26-dff7-315e89e7a6c2"
      },
      "execution_count": 3,
      "outputs": [
        {
          "output_type": "execute_result",
          "data": {
            "text/plain": [
              "0"
            ]
          },
          "metadata": {},
          "execution_count": 3
        }
      ]
    },
    {
      "cell_type": "code",
      "source": [
        "# create a vector\n",
        "vector=tf.constant([10,10])\n",
        "vector"
      ],
      "metadata": {
        "colab": {
          "base_uri": "https://localhost:8080/"
        },
        "id": "U2MNuNAwlodW",
        "outputId": "54c524ff-770d-4e3b-a79c-bb8c5796801a"
      },
      "execution_count": 6,
      "outputs": [
        {
          "output_type": "execute_result",
          "data": {
            "text/plain": [
              "<tf.Tensor: shape=(2,), dtype=int32, numpy=array([10, 10], dtype=int32)>"
            ]
          },
          "metadata": {},
          "execution_count": 6
        }
      ]
    },
    {
      "cell_type": "code",
      "source": [
        "vector.ndim"
      ],
      "metadata": {
        "colab": {
          "base_uri": "https://localhost:8080/"
        },
        "id": "dGc9YNQgl4E9",
        "outputId": "42c361e4-6ebb-4697-a97b-cca618b7d8cb"
      },
      "execution_count": 7,
      "outputs": [
        {
          "output_type": "execute_result",
          "data": {
            "text/plain": [
              "1"
            ]
          },
          "metadata": {},
          "execution_count": 7
        }
      ]
    },
    {
      "cell_type": "code",
      "source": [
        "# create a matrix\n",
        "matrix=tf.constant([[10,7,1,0],[7,10,3,6]])\n",
        "matrix"
      ],
      "metadata": {
        "colab": {
          "base_uri": "https://localhost:8080/"
        },
        "id": "-91QPQwrl6vj",
        "outputId": "15a1d46e-020e-4da3-c8e7-815e094bec74"
      },
      "execution_count": 10,
      "outputs": [
        {
          "output_type": "execute_result",
          "data": {
            "text/plain": [
              "<tf.Tensor: shape=(2, 4), dtype=int32, numpy=\n",
              "array([[10,  7,  1,  0],\n",
              "       [ 7, 10,  3,  6]], dtype=int32)>"
            ]
          },
          "metadata": {},
          "execution_count": 10
        }
      ]
    },
    {
      "cell_type": "code",
      "source": [
        "matrix.ndim"
      ],
      "metadata": {
        "colab": {
          "base_uri": "https://localhost:8080/"
        },
        "id": "oL2wLKC9mB1Z",
        "outputId": "786ac31d-547a-4d41-953a-204811248dba"
      },
      "execution_count": 9,
      "outputs": [
        {
          "output_type": "execute_result",
          "data": {
            "text/plain": [
              "2"
            ]
          },
          "metadata": {},
          "execution_count": 9
        }
      ]
    },
    {
      "cell_type": "code",
      "source": [
        "another_matrix=tf.constant([[10.,7.], [3.,2],[8,9]],dtype=tf.float16)\n",
        "another_matrix"
      ],
      "metadata": {
        "colab": {
          "base_uri": "https://localhost:8080/"
        },
        "id": "cp_i-KOOmR2h",
        "outputId": "8a0df7fc-542b-4265-95e7-5669b7cc7574"
      },
      "execution_count": 11,
      "outputs": [
        {
          "output_type": "execute_result",
          "data": {
            "text/plain": [
              "<tf.Tensor: shape=(3, 2), dtype=float16, numpy=\n",
              "array([[10.,  7.],\n",
              "       [ 3.,  2.],\n",
              "       [ 8.,  9.]], dtype=float16)>"
            ]
          },
          "metadata": {},
          "execution_count": 11
        }
      ]
    },
    {
      "cell_type": "code",
      "source": [
        "another_matrix.ndim"
      ],
      "metadata": {
        "colab": {
          "base_uri": "https://localhost:8080/"
        },
        "id": "kW2A2kAKmZUO",
        "outputId": "4ae2c0fd-9975-4757-fd77-e35bfd1f1ed1"
      },
      "execution_count": 12,
      "outputs": [
        {
          "output_type": "execute_result",
          "data": {
            "text/plain": [
              "2"
            ]
          },
          "metadata": {},
          "execution_count": 12
        }
      ]
    },
    {
      "cell_type": "code",
      "source": [
        "#create a tensor\n",
        "tensor=tf.constant([[[1,2,3],[4,5,6]],\n",
        "[[7,8,9], [10,11,12]],\n",
        "[[13,14,15],[16,17,18]]])\n",
        "tensor"
      ],
      "metadata": {
        "colab": {
          "base_uri": "https://localhost:8080/"
        },
        "id": "eLOfkGX9m9K1",
        "outputId": "49b4d9b2-3402-432a-c604-38f6e442ed1d"
      },
      "execution_count": 13,
      "outputs": [
        {
          "output_type": "execute_result",
          "data": {
            "text/plain": [
              "<tf.Tensor: shape=(3, 2, 3), dtype=int32, numpy=\n",
              "array([[[ 1,  2,  3],\n",
              "        [ 4,  5,  6]],\n",
              "\n",
              "       [[ 7,  8,  9],\n",
              "        [10, 11, 12]],\n",
              "\n",
              "       [[13, 14, 15],\n",
              "        [16, 17, 18]]], dtype=int32)>"
            ]
          },
          "metadata": {},
          "execution_count": 13
        }
      ]
    },
    {
      "cell_type": "code",
      "source": [
        "tensor.ndim"
      ],
      "metadata": {
        "colab": {
          "base_uri": "https://localhost:8080/"
        },
        "id": "797-XS92nPR6",
        "outputId": "32adffbb-ffca-422e-ca41-be6c441cbbc4"
      },
      "execution_count": 14,
      "outputs": [
        {
          "output_type": "execute_result",
          "data": {
            "text/plain": [
              "3"
            ]
          },
          "metadata": {},
          "execution_count": 14
        }
      ]
    },
    {
      "cell_type": "code",
      "source": [
        "tensor1=tf.constant([[1],[2],[3]])\n",
        "tensor1"
      ],
      "metadata": {
        "colab": {
          "base_uri": "https://localhost:8080/"
        },
        "id": "Irl5U-05nU-b",
        "outputId": "afe960a8-047e-4852-b1eb-c320f139d409"
      },
      "execution_count": 15,
      "outputs": [
        {
          "output_type": "execute_result",
          "data": {
            "text/plain": [
              "<tf.Tensor: shape=(3, 1), dtype=int32, numpy=\n",
              "array([[1],\n",
              "       [2],\n",
              "       [3]], dtype=int32)>"
            ]
          },
          "metadata": {},
          "execution_count": 15
        }
      ]
    },
    {
      "cell_type": "code",
      "source": [
        "tensor1.ndim"
      ],
      "metadata": {
        "colab": {
          "base_uri": "https://localhost:8080/"
        },
        "id": "A0XRl8Bfnljl",
        "outputId": "364f3472-7020-4ffa-dd2e-40983359e594"
      },
      "execution_count": 16,
      "outputs": [
        {
          "output_type": "execute_result",
          "data": {
            "text/plain": [
              "2"
            ]
          },
          "metadata": {},
          "execution_count": 16
        }
      ]
    },
    {
      "cell_type": "code",
      "source": [
        "tensor2=tf.constant([[[1,2,3],[3,4,3],[5,6,3],[0,0,3]],\n",
        "                     [[7,8,3],[9,10,3],[11,12,3],[1,1,3]]])\n",
        "tensor2"
      ],
      "metadata": {
        "colab": {
          "base_uri": "https://localhost:8080/"
        },
        "id": "xApzNqC8tw_A",
        "outputId": "0732a423-7b22-4f54-d8ed-448ae89a8e33"
      },
      "execution_count": 20,
      "outputs": [
        {
          "output_type": "execute_result",
          "data": {
            "text/plain": [
              "<tf.Tensor: shape=(2, 4, 3), dtype=int32, numpy=\n",
              "array([[[ 1,  2,  3],\n",
              "        [ 3,  4,  3],\n",
              "        [ 5,  6,  3],\n",
              "        [ 0,  0,  3]],\n",
              "\n",
              "       [[ 7,  8,  3],\n",
              "        [ 9, 10,  3],\n",
              "        [11, 12,  3],\n",
              "        [ 1,  1,  3]]], dtype=int32)>"
            ]
          },
          "metadata": {},
          "execution_count": 20
        }
      ]
    },
    {
      "cell_type": "code",
      "source": [
        "tensor2.ndim"
      ],
      "metadata": {
        "colab": {
          "base_uri": "https://localhost:8080/"
        },
        "id": "5VXFg4lKu8pm",
        "outputId": "d92e733d-646c-4e20-df13-7db398edd0d2"
      },
      "execution_count": 21,
      "outputs": [
        {
          "output_type": "execute_result",
          "data": {
            "text/plain": [
              "3"
            ]
          },
          "metadata": {},
          "execution_count": 21
        }
      ]
    },
    {
      "cell_type": "code",
      "source": [
        "tensor3=tf.constant([[[1,2,3],[3,4,3],[5,6,3],[0,0,3]],\n",
        "                     [[1,2,3],[3,4,3],[5,6,3],[0,0,3]],\n",
        "                     [[1,2,3],[3,4,3],[5,6,3],[0,0,3]],\n",
        "                     [[1,2,3],[3,4,3],[5,6,3],[0,0,3]],\n",
        "                     [[7,8,3],[9,10,3],[11,12,3],[1,1,3]]])\n",
        "tensor3"
      ],
      "metadata": {
        "colab": {
          "base_uri": "https://localhost:8080/"
        },
        "id": "expcUVFyvKnU",
        "outputId": "1030c551-207f-4a95-f566-9c5597e2e46e"
      },
      "execution_count": 22,
      "outputs": [
        {
          "output_type": "execute_result",
          "data": {
            "text/plain": [
              "<tf.Tensor: shape=(5, 4, 3), dtype=int32, numpy=\n",
              "array([[[ 1,  2,  3],\n",
              "        [ 3,  4,  3],\n",
              "        [ 5,  6,  3],\n",
              "        [ 0,  0,  3]],\n",
              "\n",
              "       [[ 1,  2,  3],\n",
              "        [ 3,  4,  3],\n",
              "        [ 5,  6,  3],\n",
              "        [ 0,  0,  3]],\n",
              "\n",
              "       [[ 1,  2,  3],\n",
              "        [ 3,  4,  3],\n",
              "        [ 5,  6,  3],\n",
              "        [ 0,  0,  3]],\n",
              "\n",
              "       [[ 1,  2,  3],\n",
              "        [ 3,  4,  3],\n",
              "        [ 5,  6,  3],\n",
              "        [ 0,  0,  3]],\n",
              "\n",
              "       [[ 7,  8,  3],\n",
              "        [ 9, 10,  3],\n",
              "        [11, 12,  3],\n",
              "        [ 1,  1,  3]]], dtype=int32)>"
            ]
          },
          "metadata": {},
          "execution_count": 22
        }
      ]
    },
    {
      "cell_type": "code",
      "source": [
        "tensor3.ndim"
      ],
      "metadata": {
        "colab": {
          "base_uri": "https://localhost:8080/"
        },
        "id": "nO6sAAOJvXiz",
        "outputId": "3e519eac-50b9-4534-ab67-724fb5ef3b07"
      },
      "execution_count": 23,
      "outputs": [
        {
          "output_type": "execute_result",
          "data": {
            "text/plain": [
              "3"
            ]
          },
          "metadata": {},
          "execution_count": 23
        }
      ]
    },
    {
      "cell_type": "code",
      "source": [
        "tensor4d=tf.constant([\n",
        "                      [[[1,2,3],[3,4,3],[5,6,3],[0,0,3]],\n",
        "                      [[1,2,3],[3,4,3],[5,6,3],[0,0,3]],\n",
        "                      [[1,2,3],[3,4,3],[5,6,3],[0,0,3]],\n",
        "                      [[1,2,3],[3,4,3],[5,6,3],[0,0,3]],\n",
        "                      [[7,8,3],[9,10,3],[11,12,3],[1,1,3]]],\n",
        "\n",
        "                      [[[1,2,3],[3,4,3],[5,6,3],[0,0,3]],\n",
        "                      [[1,2,3],[3,4,3],[5,6,3],[0,0,3]],\n",
        "                      [[1,2,3],[3,4,3],[5,6,3],[0,0,3]],\n",
        "                      [[1,2,3],[3,4,3],[5,6,3],[0,0,3]],\n",
        "                      [[7,8,3],[9,10,3],[11,12,3],[1,1,3]]]\n",
        "                    ]\n",
        "                    )\n",
        "tensor4d"
      ],
      "metadata": {
        "colab": {
          "base_uri": "https://localhost:8080/"
        },
        "id": "Kw6iDINAvu67",
        "outputId": "d9508418-b06e-4b1f-d6db-02076a69b097"
      },
      "execution_count": 28,
      "outputs": [
        {
          "output_type": "execute_result",
          "data": {
            "text/plain": [
              "<tf.Tensor: shape=(2, 5, 4, 3), dtype=int32, numpy=\n",
              "array([[[[ 1,  2,  3],\n",
              "         [ 3,  4,  3],\n",
              "         [ 5,  6,  3],\n",
              "         [ 0,  0,  3]],\n",
              "\n",
              "        [[ 1,  2,  3],\n",
              "         [ 3,  4,  3],\n",
              "         [ 5,  6,  3],\n",
              "         [ 0,  0,  3]],\n",
              "\n",
              "        [[ 1,  2,  3],\n",
              "         [ 3,  4,  3],\n",
              "         [ 5,  6,  3],\n",
              "         [ 0,  0,  3]],\n",
              "\n",
              "        [[ 1,  2,  3],\n",
              "         [ 3,  4,  3],\n",
              "         [ 5,  6,  3],\n",
              "         [ 0,  0,  3]],\n",
              "\n",
              "        [[ 7,  8,  3],\n",
              "         [ 9, 10,  3],\n",
              "         [11, 12,  3],\n",
              "         [ 1,  1,  3]]],\n",
              "\n",
              "\n",
              "       [[[ 1,  2,  3],\n",
              "         [ 3,  4,  3],\n",
              "         [ 5,  6,  3],\n",
              "         [ 0,  0,  3]],\n",
              "\n",
              "        [[ 1,  2,  3],\n",
              "         [ 3,  4,  3],\n",
              "         [ 5,  6,  3],\n",
              "         [ 0,  0,  3]],\n",
              "\n",
              "        [[ 1,  2,  3],\n",
              "         [ 3,  4,  3],\n",
              "         [ 5,  6,  3],\n",
              "         [ 0,  0,  3]],\n",
              "\n",
              "        [[ 1,  2,  3],\n",
              "         [ 3,  4,  3],\n",
              "         [ 5,  6,  3],\n",
              "         [ 0,  0,  3]],\n",
              "\n",
              "        [[ 7,  8,  3],\n",
              "         [ 9, 10,  3],\n",
              "         [11, 12,  3],\n",
              "         [ 1,  1,  3]]]], dtype=int32)>"
            ]
          },
          "metadata": {},
          "execution_count": 28
        }
      ]
    },
    {
      "cell_type": "code",
      "source": [
        "tensor4d.ndim"
      ],
      "metadata": {
        "colab": {
          "base_uri": "https://localhost:8080/"
        },
        "id": "STcLbTJtwhSY",
        "outputId": "2df25f78-864d-4cf2-e82c-3e0cc6e13263"
      },
      "execution_count": 29,
      "outputs": [
        {
          "output_type": "execute_result",
          "data": {
            "text/plain": [
              "4"
            ]
          },
          "metadata": {},
          "execution_count": 29
        }
      ]
    },
    {
      "cell_type": "code",
      "source": [
        "tensor5d=tf.constant([[[[[1],[2]],\n",
        "                        [[1],[3]],\n",
        "                        [[1],[3]]],\n",
        "\n",
        "                       [[[1],[2]],\n",
        "                        [[1],[3]],\n",
        "                        [[1],[3]]]],\n",
        "\n",
        "                      [[[[1],[2]],\n",
        "                        [[1],[3]],\n",
        "                        [[1],[3]]],\n",
        "\n",
        "                       [[[1],[2]],\n",
        "                        [[1],[3]],\n",
        "                        [[1],[3]]]]])\n",
        "\n",
        "tensor5d"
      ],
      "metadata": {
        "colab": {
          "base_uri": "https://localhost:8080/"
        },
        "id": "J4cdb0EWwwVZ",
        "outputId": "49173242-ccb9-47d5-8c29-ec38976cd31d"
      },
      "execution_count": 31,
      "outputs": [
        {
          "output_type": "execute_result",
          "data": {
            "text/plain": [
              "<tf.Tensor: shape=(2, 2, 3, 2, 1), dtype=int32, numpy=\n",
              "array([[[[[1],\n",
              "          [2]],\n",
              "\n",
              "         [[1],\n",
              "          [3]],\n",
              "\n",
              "         [[1],\n",
              "          [3]]],\n",
              "\n",
              "\n",
              "        [[[1],\n",
              "          [2]],\n",
              "\n",
              "         [[1],\n",
              "          [3]],\n",
              "\n",
              "         [[1],\n",
              "          [3]]]],\n",
              "\n",
              "\n",
              "\n",
              "       [[[[1],\n",
              "          [2]],\n",
              "\n",
              "         [[1],\n",
              "          [3]],\n",
              "\n",
              "         [[1],\n",
              "          [3]]],\n",
              "\n",
              "\n",
              "        [[[1],\n",
              "          [2]],\n",
              "\n",
              "         [[1],\n",
              "          [3]],\n",
              "\n",
              "         [[1],\n",
              "          [3]]]]], dtype=int32)>"
            ]
          },
          "metadata": {},
          "execution_count": 31
        }
      ]
    },
    {
      "cell_type": "code",
      "source": [
        "tensor5d.ndim"
      ],
      "metadata": {
        "colab": {
          "base_uri": "https://localhost:8080/"
        },
        "id": "JTkOd2dGyFZQ",
        "outputId": "d9f0759a-83b1-43c3-f989-8f83efa2164b"
      },
      "execution_count": 32,
      "outputs": [
        {
          "output_type": "execute_result",
          "data": {
            "text/plain": [
              "5"
            ]
          },
          "metadata": {},
          "execution_count": 32
        }
      ]
    }
  ]
}