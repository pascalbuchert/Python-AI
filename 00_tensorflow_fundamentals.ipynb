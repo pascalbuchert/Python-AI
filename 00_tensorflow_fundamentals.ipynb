{
  "nbformat": 4,
  "nbformat_minor": 0,
  "metadata": {
    "colab": {
      "provenance": [],
      "authorship_tag": "ABX9TyP4C+mFdIpz/w7p/aWNzF2a",
      "include_colab_link": true
    },
    "kernelspec": {
      "name": "python3",
      "display_name": "Python 3"
    },
    "language_info": {
      "name": "python"
    }
  },
  "cells": [
    {
      "cell_type": "markdown",
      "metadata": {
        "id": "view-in-github",
        "colab_type": "text"
      },
      "source": [
        "<a href=\"https://colab.research.google.com/github/pascalbuchert/Python-AI/blob/main/00_tensorflow_fundamentals.ipynb\" target=\"_parent\"><img src=\"https://colab.research.google.com/assets/colab-badge.svg\" alt=\"Open In Colab\"/></a>"
      ]
    },
    {
      "cell_type": "code",
      "execution_count": null,
      "metadata": {
        "id": "sH6Qb885gMCC"
      },
      "outputs": [],
      "source": []
    },
    {
      "cell_type": "markdown",
      "source": [
        "Cover introduction to tensors"
      ],
      "metadata": {
        "id": "Brt53cHoghsF"
      }
    },
    {
      "cell_type": "code",
      "source": [
        "import tensorflow as tf\n",
        "print(tf.__version__)"
      ],
      "metadata": {
        "colab": {
          "base_uri": "https://localhost:8080/"
        },
        "id": "ie3XWuJAgmtf",
        "outputId": "0c8cb5e8-b44e-479f-a80d-64e11b33eb23"
      },
      "execution_count": 1,
      "outputs": [
        {
          "output_type": "stream",
          "name": "stdout",
          "text": [
            "2.15.0\n"
          ]
        }
      ]
    },
    {
      "cell_type": "code",
      "source": [
        "# create first tensor with tf.constant()\n",
        "scalar= tf.constant(7)\n",
        "scalar"
      ],
      "metadata": {
        "colab": {
          "base_uri": "https://localhost:8080/"
        },
        "id": "ejPjpchxhLbz",
        "outputId": "6929d907-dc76-4afe-ec60-a1e17c1f9ad4"
      },
      "execution_count": 2,
      "outputs": [
        {
          "output_type": "execute_result",
          "data": {
            "text/plain": [
              "<tf.Tensor: shape=(), dtype=int32, numpy=7>"
            ]
          },
          "metadata": {},
          "execution_count": 2
        }
      ]
    },
    {
      "cell_type": "code",
      "source": [
        "#number of dimensiosn of the tensor\n",
        "scalar.ndim"
      ],
      "metadata": {
        "colab": {
          "base_uri": "https://localhost:8080/"
        },
        "id": "KqK-P8Dqhuyj",
        "outputId": "5fe10cf7-6040-4fc7-99db-bd5edf313873"
      },
      "execution_count": 3,
      "outputs": [
        {
          "output_type": "execute_result",
          "data": {
            "text/plain": [
              "0"
            ]
          },
          "metadata": {},
          "execution_count": 3
        }
      ]
    },
    {
      "cell_type": "code",
      "source": [
        "# create a vector\n",
        "vector=tf.constant([10,10])\n",
        "vector"
      ],
      "metadata": {
        "colab": {
          "base_uri": "https://localhost:8080/"
        },
        "id": "8w9akB7Eh3Cw",
        "outputId": "45b64edd-b6cc-44f8-ce99-4edfdae9da17"
      },
      "execution_count": 4,
      "outputs": [
        {
          "output_type": "execute_result",
          "data": {
            "text/plain": [
              "<tf.Tensor: shape=(2,), dtype=int32, numpy=array([10, 10], dtype=int32)>"
            ]
          },
          "metadata": {},
          "execution_count": 4
        }
      ]
    },
    {
      "cell_type": "code",
      "source": [
        "# check dimension of the vector\n",
        "vector.ndim"
      ],
      "metadata": {
        "colab": {
          "base_uri": "https://localhost:8080/"
        },
        "id": "ek_feu47iRq-",
        "outputId": "9249f2b5-5e05-4d51-a802-599924c4d544"
      },
      "execution_count": 5,
      "outputs": [
        {
          "output_type": "execute_result",
          "data": {
            "text/plain": [
              "1"
            ]
          },
          "metadata": {},
          "execution_count": 5
        }
      ]
    },
    {
      "cell_type": "code",
      "source": [
        "# create a matrix\n",
        "matrix=tf.constant([[10,7],[7,10]])\n",
        "matrix"
      ],
      "metadata": {
        "colab": {
          "base_uri": "https://localhost:8080/"
        },
        "id": "l6naqnBOiYKy",
        "outputId": "32e828a8-5053-4700-f233-18db86054d6f"
      },
      "execution_count": 6,
      "outputs": [
        {
          "output_type": "execute_result",
          "data": {
            "text/plain": [
              "<tf.Tensor: shape=(2, 2), dtype=int32, numpy=\n",
              "array([[10,  7],\n",
              "       [ 7, 10]], dtype=int32)>"
            ]
          },
          "metadata": {},
          "execution_count": 6
        }
      ]
    },
    {
      "cell_type": "code",
      "source": [
        "matrix.ndim"
      ],
      "metadata": {
        "id": "qTt6dq_XivRI",
        "outputId": "a6490e38-a75f-4cd2-fbd2-a24543133095",
        "colab": {
          "base_uri": "https://localhost:8080/"
        }
      },
      "execution_count": 7,
      "outputs": [
        {
          "output_type": "execute_result",
          "data": {
            "text/plain": [
              "2"
            ]
          },
          "metadata": {},
          "execution_count": 7
        }
      ]
    },
    {
      "cell_type": "markdown",
      "source": [
        "# create another matrix"
      ],
      "metadata": {
        "id": "zSnOvSKI9j6N"
      }
    },
    {
      "cell_type": "code",
      "source": [
        "another_matrix=tf.constant([[10.,7.], [3.,2],[8,9]],dtype=tf.float16)\n",
        "another_matrix"
      ],
      "metadata": {
        "colab": {
          "base_uri": "https://localhost:8080/"
        },
        "id": "i5HbbOuD9r3F",
        "outputId": "b5a423a5-21bc-4599-feec-8b40f6fb8f77"
      },
      "execution_count": 8,
      "outputs": [
        {
          "output_type": "execute_result",
          "data": {
            "text/plain": [
              "<tf.Tensor: shape=(3, 2), dtype=float16, numpy=\n",
              "array([[10.,  7.],\n",
              "       [ 3.,  2.],\n",
              "       [ 8.,  9.]], dtype=float16)>"
            ]
          },
          "metadata": {},
          "execution_count": 8
        }
      ]
    },
    {
      "cell_type": "code",
      "source": [
        "another_matrix.ndim"
      ],
      "metadata": {
        "colab": {
          "base_uri": "https://localhost:8080/"
        },
        "id": "JnQYT56G-zds",
        "outputId": "e144aaf6-9fd7-4d43-f971-281ac84e7181"
      },
      "execution_count": 9,
      "outputs": [
        {
          "output_type": "execute_result",
          "data": {
            "text/plain": [
              "2"
            ]
          },
          "metadata": {},
          "execution_count": 9
        }
      ]
    },
    {
      "cell_type": "code",
      "source": [
        "another_matrix_again=tf.constant([[10,7,1], [3,2,11],[8,9,101]],dtype=tf.float16)\n",
        "another_matrix_again"
      ],
      "metadata": {
        "colab": {
          "base_uri": "https://localhost:8080/"
        },
        "outputId": "b19a2116-e7a5-40f3-c7b9-114214c2a570",
        "id": "HleMHdDw_f2r"
      },
      "execution_count": 10,
      "outputs": [
        {
          "output_type": "execute_result",
          "data": {
            "text/plain": [
              "<tf.Tensor: shape=(3, 3), dtype=float16, numpy=\n",
              "array([[ 10.,   7.,   1.],\n",
              "       [  3.,   2.,  11.],\n",
              "       [  8.,   9., 101.]], dtype=float16)>"
            ]
          },
          "metadata": {},
          "execution_count": 10
        }
      ]
    },
    {
      "cell_type": "code",
      "source": [
        "another_matrix_again.ndim"
      ],
      "metadata": {
        "colab": {
          "base_uri": "https://localhost:8080/"
        },
        "id": "pzmIhHEC_15H",
        "outputId": "713d1666-a735-4808-e0f0-fed4f5f70f1a"
      },
      "execution_count": 11,
      "outputs": [
        {
          "output_type": "execute_result",
          "data": {
            "text/plain": [
              "2"
            ]
          },
          "metadata": {},
          "execution_count": 11
        }
      ]
    },
    {
      "cell_type": "code",
      "source": [
        "#create a tensor\n",
        "tensor=tf.constant([[[1,2,3],\n",
        " [4,5,6]],\n",
        "[[7,8,9],\n",
        " [10,11,12]],\n",
        "        [[13,14,15],\n",
        "                   [16,17,18]]])\n",
        "tensor"
      ],
      "metadata": {
        "colab": {
          "base_uri": "https://localhost:8080/"
        },
        "id": "5-r9La22AA_d",
        "outputId": "93449434-bf42-406e-82fe-24ef4a1ade10"
      },
      "execution_count": 12,
      "outputs": [
        {
          "output_type": "execute_result",
          "data": {
            "text/plain": [
              "<tf.Tensor: shape=(3, 2, 3), dtype=int32, numpy=\n",
              "array([[[ 1,  2,  3],\n",
              "        [ 4,  5,  6]],\n",
              "\n",
              "       [[ 7,  8,  9],\n",
              "        [10, 11, 12]],\n",
              "\n",
              "       [[13, 14, 15],\n",
              "        [16, 17, 18]]], dtype=int32)>"
            ]
          },
          "metadata": {},
          "execution_count": 12
        }
      ]
    },
    {
      "cell_type": "code",
      "source": [
        "tensor.ndim"
      ],
      "metadata": {
        "colab": {
          "base_uri": "https://localhost:8080/"
        },
        "id": "rEhwUaBKCGQQ",
        "outputId": "82940cda-40bd-4ffb-f13e-e9f0fec1cc9c"
      },
      "execution_count": 13,
      "outputs": [
        {
          "output_type": "execute_result",
          "data": {
            "text/plain": [
              "3"
            ]
          },
          "metadata": {},
          "execution_count": 13
        }
      ]
    },
    {
      "cell_type": "code",
      "source": [
        "# variables\n",
        "changeable_tensor=tf.Variable([10,7])\n",
        "unchangeable_tensor=tf.constant([10,7])\n",
        "changeable_tensor,unchangeable_tensor\n"
      ],
      "metadata": {
        "colab": {
          "base_uri": "https://localhost:8080/"
        },
        "id": "JnufyObCCR5v",
        "outputId": "3dd53adf-06b9-4196-c19c-2d3ab0b05166"
      },
      "execution_count": 14,
      "outputs": [
        {
          "output_type": "execute_result",
          "data": {
            "text/plain": [
              "(<tf.Variable 'Variable:0' shape=(2,) dtype=int32, numpy=array([10,  7], dtype=int32)>,\n",
              " <tf.Tensor: shape=(2,), dtype=int32, numpy=array([10,  7], dtype=int32)>)"
            ]
          },
          "metadata": {},
          "execution_count": 14
        }
      ]
    },
    {
      "cell_type": "code",
      "source": [
        "changeable_tensor[0] =7\n",
        "changeable_tensor"
      ],
      "metadata": {
        "colab": {
          "base_uri": "https://localhost:8080/",
          "height": 158
        },
        "id": "cYz1WTUeG_0S",
        "outputId": "8fbb2a2e-08f8-47c9-a8d9-d44bdead037e"
      },
      "execution_count": 15,
      "outputs": [
        {
          "output_type": "error",
          "ename": "TypeError",
          "evalue": "'ResourceVariable' object does not support item assignment",
          "traceback": [
            "\u001b[0;31m---------------------------------------------------------------------------\u001b[0m",
            "\u001b[0;31mTypeError\u001b[0m                                 Traceback (most recent call last)",
            "\u001b[0;32m<ipython-input-15-344425be838a>\u001b[0m in \u001b[0;36m<cell line: 1>\u001b[0;34m()\u001b[0m\n\u001b[0;32m----> 1\u001b[0;31m \u001b[0mchangeable_tensor\u001b[0m\u001b[0;34m[\u001b[0m\u001b[0;36m0\u001b[0m\u001b[0;34m]\u001b[0m \u001b[0;34m=\u001b[0m\u001b[0;36m7\u001b[0m\u001b[0;34m\u001b[0m\u001b[0;34m\u001b[0m\u001b[0m\n\u001b[0m\u001b[1;32m      2\u001b[0m \u001b[0mchangeable_tensor\u001b[0m\u001b[0;34m\u001b[0m\u001b[0;34m\u001b[0m\u001b[0m\n",
            "\u001b[0;31mTypeError\u001b[0m: 'ResourceVariable' object does not support item assignment"
          ]
        }
      ]
    },
    {
      "cell_type": "code",
      "source": [],
      "metadata": {
        "id": "bjM3riteJJ-f"
      },
      "execution_count": null,
      "outputs": []
    },
    {
      "cell_type": "code",
      "source": [
        "# Use assign()\n",
        "changeable_tensor[0].assign(6)\n",
        "changeable_tensor[1].assign(8)\n",
        "\n",
        "changeable_tensor"
      ],
      "metadata": {
        "id": "31IP8L4uHibO"
      },
      "execution_count": null,
      "outputs": []
    },
    {
      "cell_type": "code",
      "source": [
        "# Try change unchaneaglbe tensor\n",
        "unchangeable_tensor[0].assign(6)\n",
        "unchangeable_tensor"
      ],
      "metadata": {
        "id": "yQ52vu_xH-p3"
      },
      "execution_count": null,
      "outputs": []
    },
    {
      "cell_type": "code",
      "source": [
        "# create random tensors\n",
        "\n",
        "random_tensor1=tf.random.Generator.from_seed(42)   # set seed for reproducibility\n",
        "random_tensor1= random_tensor1.normal(shape=(3,2))\n",
        "random_tensor1"
      ],
      "metadata": {
        "id": "-DNMcugwKj3J"
      },
      "execution_count": null,
      "outputs": []
    },
    {
      "cell_type": "code",
      "source": [
        "# normal distribution\n",
        "random_2=tf.random.Generator.from_seed(42)\n",
        "random_2= random_2.normal(shape=(3,2))\n",
        "random_2"
      ],
      "metadata": {
        "id": "j-E3Fb1ZMrbS"
      },
      "execution_count": null,
      "outputs": []
    },
    {
      "cell_type": "code",
      "source": [
        "# are there equal\n",
        "random_tensor1== random_2"
      ],
      "metadata": {
        "id": "VLgjyHTANW3m"
      },
      "execution_count": null,
      "outputs": []
    },
    {
      "cell_type": "code",
      "source": [
        "# seed makes it not random"
      ],
      "metadata": {
        "id": "wHwKP-92No1M"
      },
      "execution_count": null,
      "outputs": []
    },
    {
      "cell_type": "code",
      "source": [
        "# Shuffle the order of elements in a tensor\n",
        "not_shuffled=tf.constant([[10,7],\n",
        "                          [3,4],\n",
        "                          [2,5]])\n",
        "not_shuffled"
      ],
      "metadata": {
        "id": "SBDIlahaOweV"
      },
      "execution_count": null,
      "outputs": []
    },
    {
      "cell_type": "code",
      "source": [
        "not_shuffled.ndim"
      ],
      "metadata": {
        "id": "Rep2bjHpYc93"
      },
      "execution_count": null,
      "outputs": []
    },
    {
      "cell_type": "code",
      "source": [
        "not_shuffled=tf.constant([[10,7],\n",
        "                          [3,4],\n",
        "                          [2,5]])\n",
        "tf.random.shuffle(not_shuffled)\n"
      ],
      "metadata": {
        "id": "E22LoT7gYlvG"
      },
      "execution_count": null,
      "outputs": []
    },
    {
      "cell_type": "code",
      "source": [
        "tf.random.shuffle(not_shuffled)"
      ],
      "metadata": {
        "id": "1ocI4gRlau9K"
      },
      "execution_count": null,
      "outputs": []
    },
    {
      "cell_type": "code",
      "source": [
        "not_shuffled"
      ],
      "metadata": {
        "id": "RXeVX0ZLaSQI"
      },
      "execution_count": null,
      "outputs": []
    },
    {
      "cell_type": "code",
      "source": [
        "tf.random.set_seed(42)   # global seed\n",
        "tf.random.shuffle(not_shuffled, seed=42 )  # operation seed"
      ],
      "metadata": {
        "id": "qVN445IOa6ZH"
      },
      "execution_count": null,
      "outputs": []
    },
    {
      "cell_type": "markdown",
      "source": [
        "Exercice practice with 5 random tensors and shuffle them\n",
        "https://www.tensorflow.org/api_docs/python/tf/random/set_seed\n"
      ],
      "metadata": {
        "id": "fAisbKAlc6w5"
      }
    },
    {
      "cell_type": "code",
      "source": [
        "print(tf.random.uniform([1]))  # generates 'A1'\n",
        "print(tf.random.uniform([1]))  # generates 'A2'"
      ],
      "metadata": {
        "id": "iNUChE7ddxO6"
      },
      "execution_count": null,
      "outputs": []
    },
    {
      "cell_type": "code",
      "source": [
        "tf.random.set_seed(1234)\n",
        "print(tf.random.uniform([1]))  # generates 'A1'\n",
        "print(tf.random.uniform([1]))  # generates 'A2'"
      ],
      "metadata": {
        "id": "xdZogIIfccez"
      },
      "execution_count": null,
      "outputs": []
    },
    {
      "cell_type": "code",
      "source": [
        "tf.random.set_seed(1234)\n",
        "\n",
        "@tf.function\n",
        "def f():\n",
        "  a = tf.random.uniform([1])\n",
        "  b = tf.random.uniform([1])\n",
        "  return a, b\n",
        "\n",
        "@tf.function\n",
        "def g():\n",
        "  a = tf.random.uniform([1])\n",
        "  b = tf.random.uniform([1])\n",
        "  return a, b\n",
        "\n",
        "print(f())  # prints '(A1, A2)'\n",
        "print(g())  # prints '(A1, A2)'"
      ],
      "metadata": {
        "id": "cgL6XsfLeu3x"
      },
      "execution_count": null,
      "outputs": []
    },
    {
      "cell_type": "code",
      "source": [
        "print(tf.random.uniform([1], seed=1))  # generates 'A1'\n",
        "print(tf.random.uniform([1], seed=1))  # generates 'A2'"
      ],
      "metadata": {
        "id": "2OfckQ9xfjTR"
      },
      "execution_count": null,
      "outputs": []
    },
    {
      "cell_type": "code",
      "source": [
        "@tf.function\n",
        "def foo():\n",
        "  a = tf.random.uniform([1], seed=1)\n",
        "  b = tf.random.uniform([1], seed=1)\n",
        "  return a, b\n",
        "print(foo())  # prints '(A1, A1)'\n",
        "print(foo())  # prints '(A2, A2)'\n",
        "\n",
        "@tf.function\n",
        "def bar():\n",
        "  a = tf.random.uniform([1])\n",
        "  b = tf.random.uniform([1])\n",
        "  return a, b\n",
        "print(bar())  # prints '(A1, A2)'\n",
        "print(bar())  # prints '(A3, A4)'"
      ],
      "metadata": {
        "id": "JNUEbCUyhNfs"
      },
      "execution_count": null,
      "outputs": []
    },
    {
      "cell_type": "markdown",
      "source": [
        "### Lesson **20**"
      ],
      "metadata": {
        "id": "cDtb1VqsPVOv"
      }
    },
    {
      "cell_type": "code",
      "source": [
        "not_shuffled=tf.constant([[1,2],\n",
        "                          [3,4],\n",
        "                          [5,6]])\n"
      ],
      "metadata": {
        "id": "-ifzY_EaO6gL"
      },
      "execution_count": null,
      "outputs": []
    },
    {
      "cell_type": "code",
      "source": [
        "tf.random.shuffle(not_shuffled)"
      ],
      "metadata": {
        "id": "_uyDjVvGPMbC"
      },
      "execution_count": null,
      "outputs": []
    },
    {
      "cell_type": "code",
      "source": [
        "tf.random.shuffle(not_shuffled, seed=42)\n",
        "\n"
      ],
      "metadata": {
        "id": "sNryf_PPFGG4"
      },
      "execution_count": null,
      "outputs": []
    },
    {
      "cell_type": "code",
      "source": [
        "tf.random.set_seed(40)                    # global random seed\n",
        "tf.random.shuffle(not_shuffled, seed=40)  # operational random seed\n"
      ],
      "metadata": {
        "id": "gp3YPghcPhTY"
      },
      "execution_count": null,
      "outputs": []
    },
    {
      "cell_type": "code",
      "source": [
        "### other ways to make tensors\n",
        "# numpy.ones\n",
        "\n",
        "tf.ones([10,7])"
      ],
      "metadata": {
        "id": "t8FSv9aGP_i4"
      },
      "execution_count": null,
      "outputs": []
    },
    {
      "cell_type": "code",
      "source": [
        "tf.zeros(shape=(3,4))"
      ],
      "metadata": {
        "id": "6DDuBAmZQrkq"
      },
      "execution_count": null,
      "outputs": []
    },
    {
      "cell_type": "code",
      "source": [
        "# turn numpy arrays into tensors\n",
        "\n",
        "# difference between numpy arrays and tensors flow :\n",
        "# TensorFlow can be run on GPU which is faster\n",
        "\n",
        "import numpy as np\n",
        "\n",
        "numpy_A = np.arange(1,25, dtype=np.int32)\n",
        "numpy_A"
      ],
      "metadata": {
        "id": "nEkS_XPTRGV2"
      },
      "execution_count": null,
      "outputs": []
    },
    {
      "cell_type": "code",
      "source": [
        "A = tf.constant(numpy_A)\n",
        "A"
      ],
      "metadata": {
        "id": "2EF4JWfQSaka"
      },
      "execution_count": null,
      "outputs": []
    },
    {
      "cell_type": "code",
      "source": [
        "A = tf.constant(numpy_A, shape=(2,3,4))\n",
        "A"
      ],
      "metadata": {
        "id": "dw6JBCYySyhk"
      },
      "execution_count": null,
      "outputs": []
    },
    {
      "cell_type": "code",
      "source": [
        "A.ndim"
      ],
      "metadata": {
        "id": "b4J9x1qoUy63"
      },
      "execution_count": null,
      "outputs": []
    },
    {
      "cell_type": "code",
      "source": [
        "B = tf.constant(numpy_A)\n",
        "B"
      ],
      "metadata": {
        "id": "skcNNq7OTQLR"
      },
      "execution_count": null,
      "outputs": []
    },
    {
      "cell_type": "code",
      "source": [
        "B.ndim"
      ],
      "metadata": {
        "id": "GF0o9hkDUuyG"
      },
      "execution_count": null,
      "outputs": []
    },
    {
      "cell_type": "code",
      "source": [
        "C = tf.constant(numpy_A, shape=(3,8))\n",
        "C"
      ],
      "metadata": {
        "id": "imwolAGYUBWp"
      },
      "execution_count": null,
      "outputs": []
    },
    {
      "cell_type": "code",
      "source": [
        "C.ndim"
      ],
      "metadata": {
        "id": "3iB_VRi2UpW-"
      },
      "execution_count": null,
      "outputs": []
    },
    {
      "cell_type": "markdown",
      "source": [
        "## **Lesson 21**"
      ],
      "metadata": {
        "id": "wwKc9V8HUapS"
      }
    },
    {
      "cell_type": "code",
      "source": [
        "# Getting Informations from tensors\n"
      ],
      "metadata": {
        "id": "awTS_WhrUfn8"
      },
      "execution_count": null,
      "outputs": []
    },
    {
      "cell_type": "code",
      "source": [
        "#A.ndim\n",
        "#tf.size(A)\n",
        "#tf.size(B)\n",
        "tf.size(C)"
      ],
      "metadata": {
        "colab": {
          "base_uri": "https://localhost:8080/"
        },
        "id": "qmNXTZ24U13Q",
        "outputId": "f2f0f464-a4ae-42e2-8afe-0a3789a798eb"
      },
      "execution_count": 57,
      "outputs": [
        {
          "output_type": "execute_result",
          "data": {
            "text/plain": [
              "<tf.Tensor: shape=(), dtype=int32, numpy=24>"
            ]
          },
          "metadata": {},
          "execution_count": 57
        }
      ]
    },
    {
      "cell_type": "code",
      "source": [],
      "metadata": {
        "id": "8j5Sp3DDJrUo"
      },
      "execution_count": null,
      "outputs": []
    }
  ]
}