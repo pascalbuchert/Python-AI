{
  "nbformat": 4,
  "nbformat_minor": 0,
  "metadata": {
    "colab": {
      "provenance": [],
      "authorship_tag": "ABX9TyNOaDic5UCOD58Tr3IFnT1a",
      "include_colab_link": true
    },
    "kernelspec": {
      "name": "python3",
      "display_name": "Python 3"
    },
    "language_info": {
      "name": "python"
    }
  },
  "cells": [
    {
      "cell_type": "markdown",
      "metadata": {
        "id": "view-in-github",
        "colab_type": "text"
      },
      "source": [
        "<a href=\"https://colab.research.google.com/github/pascalbuchert/Python-AI/blob/main/Copy_of_My_Exercises_00_Fudamentals.ipynb\" target=\"_parent\"><img src=\"https://colab.research.google.com/assets/colab-badge.svg\" alt=\"Open In Colab\"/></a>"
      ]
    },
    {
      "cell_type": "code",
      "execution_count": 2,
      "metadata": {
        "id": "1RlLQegz_HrP"
      },
      "outputs": [],
      "source": []
    },
    {
      "cell_type": "markdown",
      "source": [
        "# **00 TensorFlow Fundamentals Exercises**\n",
        "1, Create a vector, scalar, matrix and tensor with values of your choosing using tf.constant().\n",
        "\n",
        "2, Find the shape, rank and size of the tensors you created in 1.\n",
        "\n",
        "3, Create two tensors containing random values between 0 and 1 with shape [5, 300].\n",
        "4, Multiply the two tensors you created in 3 using matrix multiplication.\n",
        "\n",
        "5, Multiply the two tensors you created in 3 using dot product.\n",
        "\n",
        "6, Create a tensor with random values between 0 and 1 with shape [224, 224, 3].\n",
        "\n",
        "7, Find the min and max values of the tensor you created in 6.\n",
        "\n",
        "8, Created a tensor with random values of shape [1, 224, 224, 3] then squeeze it to change the shape to [224, 224, 3].\n",
        "\n",
        "9, Create a tensor with shape [10] using your own choice of values, then find the index which has the maximum value.\n",
        "\n",
        "10, One-hot encode the tensor you created in 9."
      ],
      "metadata": {
        "id": "I-qV_kOy_QQu"
      }
    },
    {
      "cell_type": "code",
      "source": [
        "import tensorflow as tf\n",
        "print(tf.__version__)"
      ],
      "metadata": {
        "colab": {
          "base_uri": "https://localhost:8080/"
        },
        "id": "pZlWuLkhsfIe",
        "outputId": "7f9c62eb-e4ef-4957-c8e5-be789b0d8ed5"
      },
      "execution_count": 3,
      "outputs": [
        {
          "output_type": "stream",
          "name": "stdout",
          "text": [
            "2.15.0\n"
          ]
        }
      ]
    },
    {
      "cell_type": "code",
      "source": [
        "import numpy as np\n",
        "print (np.__version__)"
      ],
      "metadata": {
        "colab": {
          "base_uri": "https://localhost:8080/"
        },
        "id": "jTFJJDahtq6I",
        "outputId": "622d8b91-a766-4d7d-be41-3d855ba56502"
      },
      "execution_count": 4,
      "outputs": [
        {
          "output_type": "stream",
          "name": "stdout",
          "text": [
            "1.25.2\n"
          ]
        }
      ]
    },
    {
      "cell_type": "code",
      "source": [
        "# Creating a scalar\n",
        "scalar = tf.constant(8)\n"
      ],
      "metadata": {
        "id": "LP84lWUfsTHR"
      },
      "execution_count": 5,
      "outputs": []
    },
    {
      "cell_type": "code",
      "source": [
        "scalar"
      ],
      "metadata": {
        "colab": {
          "base_uri": "https://localhost:8080/"
        },
        "id": "0IOd3dnEs2Xo",
        "outputId": "e1bb2ece-0a83-4337-c3f0-6e8c610d9846"
      },
      "execution_count": 6,
      "outputs": [
        {
          "output_type": "execute_result",
          "data": {
            "text/plain": [
              "<tf.Tensor: shape=(), dtype=int32, numpy=8>"
            ]
          },
          "metadata": {},
          "execution_count": 6
        }
      ]
    },
    {
      "cell_type": "code",
      "source": [
        "vector = tf.constant ([1,2,3])\n",
        "vector"
      ],
      "metadata": {
        "colab": {
          "base_uri": "https://localhost:8080/"
        },
        "id": "0jeRwN6ls7Yv",
        "outputId": "01e5bf3b-babd-4ce4-8503-65de0a357378"
      },
      "execution_count": 7,
      "outputs": [
        {
          "output_type": "execute_result",
          "data": {
            "text/plain": [
              "<tf.Tensor: shape=(3,), dtype=int32, numpy=array([1, 2, 3], dtype=int32)>"
            ]
          },
          "metadata": {},
          "execution_count": 7
        }
      ]
    },
    {
      "cell_type": "code",
      "source": [
        "matrix=tf.constant ([[1,2,3],[4,5,6]])\n",
        "matrix"
      ],
      "metadata": {
        "colab": {
          "base_uri": "https://localhost:8080/"
        },
        "id": "wtu_DW8huF-g",
        "outputId": "efcdf5c8-bf85-4681-d9df-1c2ad30cb939"
      },
      "execution_count": 8,
      "outputs": [
        {
          "output_type": "execute_result",
          "data": {
            "text/plain": [
              "<tf.Tensor: shape=(2, 3), dtype=int32, numpy=\n",
              "array([[1, 2, 3],\n",
              "       [4, 5, 6]], dtype=int32)>"
            ]
          },
          "metadata": {},
          "execution_count": 8
        }
      ]
    },
    {
      "cell_type": "code",
      "source": [
        "tensor=tf.constant ([\n",
        "                      [\n",
        "                          [1,2,3],\n",
        "                          [4,5,6],\n",
        "                      ],\n",
        "                      [\n",
        "                          [7,8,9],\n",
        "                          [10,11,12]\n",
        "                      ],\n",
        "                    ])\n",
        "tensor\n"
      ],
      "metadata": {
        "id": "1IXaRb2NvIMn",
        "outputId": "8b4c0ad0-62aa-410d-fe63-bd7240ea5efa",
        "colab": {
          "base_uri": "https://localhost:8080/"
        }
      },
      "execution_count": 9,
      "outputs": [
        {
          "output_type": "execute_result",
          "data": {
            "text/plain": [
              "<tf.Tensor: shape=(2, 2, 3), dtype=int32, numpy=\n",
              "array([[[ 1,  2,  3],\n",
              "        [ 4,  5,  6]],\n",
              "\n",
              "       [[ 7,  8,  9],\n",
              "        [10, 11, 12]]], dtype=int32)>"
            ]
          },
          "metadata": {},
          "execution_count": 9
        }
      ]
    },
    {
      "cell_type": "code",
      "source": [
        "tensor1=tf.constant ([\n",
        "                      [\n",
        "                          [1,2,3],\n",
        "                          [4,5,6],\n",
        "                          [1,2,3],\n",
        "                          [1,2,3],\n",
        "                      ],\n",
        "                      [\n",
        "                          [7,8,9],\n",
        "                          [10,11,12],\n",
        "                          [1,2,3],\n",
        "                          [1,2,3],\n",
        "                      ],\n",
        "                      [\n",
        "                          [7,8,9],\n",
        "                          [10,11,12],\n",
        "                          [1,2,3],\n",
        "                          [1,2,3],\n",
        "                      ],\n",
        "                    ])\n",
        "tensor1"
      ],
      "metadata": {
        "id": "LdgI71sawEMK",
        "outputId": "e93806d4-a7d6-4676-89ff-6068067759fa",
        "colab": {
          "base_uri": "https://localhost:8080/"
        }
      },
      "execution_count": 10,
      "outputs": [
        {
          "output_type": "execute_result",
          "data": {
            "text/plain": [
              "<tf.Tensor: shape=(3, 4, 3), dtype=int32, numpy=\n",
              "array([[[ 1,  2,  3],\n",
              "        [ 4,  5,  6],\n",
              "        [ 1,  2,  3],\n",
              "        [ 1,  2,  3]],\n",
              "\n",
              "       [[ 7,  8,  9],\n",
              "        [10, 11, 12],\n",
              "        [ 1,  2,  3],\n",
              "        [ 1,  2,  3]],\n",
              "\n",
              "       [[ 7,  8,  9],\n",
              "        [10, 11, 12],\n",
              "        [ 1,  2,  3],\n",
              "        [ 1,  2,  3]]], dtype=int32)>"
            ]
          },
          "metadata": {},
          "execution_count": 10
        }
      ]
    },
    {
      "cell_type": "code",
      "source": [
        "scalar, vector , matrix , tensor"
      ],
      "metadata": {
        "id": "JVFZgXqCwfiH",
        "outputId": "8957bd19-d807-443d-aa2a-024b0a2b006d",
        "colab": {
          "base_uri": "https://localhost:8080/"
        }
      },
      "execution_count": 11,
      "outputs": [
        {
          "output_type": "execute_result",
          "data": {
            "text/plain": [
              "(<tf.Tensor: shape=(), dtype=int32, numpy=8>,\n",
              " <tf.Tensor: shape=(3,), dtype=int32, numpy=array([1, 2, 3], dtype=int32)>,\n",
              " <tf.Tensor: shape=(2, 3), dtype=int32, numpy=\n",
              " array([[1, 2, 3],\n",
              "        [4, 5, 6]], dtype=int32)>,\n",
              " <tf.Tensor: shape=(2, 2, 3), dtype=int32, numpy=\n",
              " array([[[ 1,  2,  3],\n",
              "         [ 4,  5,  6]],\n",
              " \n",
              "        [[ 7,  8,  9],\n",
              "         [10, 11, 12]]], dtype=int32)>)"
            ]
          },
          "metadata": {},
          "execution_count": 11
        }
      ]
    },
    {
      "cell_type": "code",
      "source": [
        "tensor.shape"
      ],
      "metadata": {
        "id": "PK-wUTxLw9lH",
        "outputId": "864ecbdc-951a-4004-ef9b-275bda6e5e27",
        "colab": {
          "base_uri": "https://localhost:8080/"
        }
      },
      "execution_count": 12,
      "outputs": [
        {
          "output_type": "execute_result",
          "data": {
            "text/plain": [
              "TensorShape([2, 2, 3])"
            ]
          },
          "metadata": {},
          "execution_count": 12
        }
      ]
    },
    {
      "cell_type": "code",
      "source": [
        "tf.rank(tensor)"
      ],
      "metadata": {
        "id": "GWYJtbZfxCWj",
        "outputId": "f86b9c11-bd5d-40a1-99ae-0f05ac1f828c",
        "colab": {
          "base_uri": "https://localhost:8080/"
        }
      },
      "execution_count": 13,
      "outputs": [
        {
          "output_type": "execute_result",
          "data": {
            "text/plain": [
              "<tf.Tensor: shape=(), dtype=int32, numpy=3>"
            ]
          },
          "metadata": {},
          "execution_count": 13
        }
      ]
    },
    {
      "cell_type": "code",
      "source": [
        "tf.size(tensor)"
      ],
      "metadata": {
        "id": "oAjZizbyxT6V",
        "outputId": "401c5af4-b06b-4f67-e464-34a86164e885",
        "colab": {
          "base_uri": "https://localhost:8080/"
        }
      },
      "execution_count": 14,
      "outputs": [
        {
          "output_type": "execute_result",
          "data": {
            "text/plain": [
              "<tf.Tensor: shape=(), dtype=int32, numpy=12>"
            ]
          },
          "metadata": {},
          "execution_count": 14
        }
      ]
    },
    {
      "cell_type": "code",
      "source": [
        "print (\"Rank :\", tf.rank(tensor)) , print (\"Size :\", tf.size(tensor)), print ('Shape :', tensor.shape)"
      ],
      "metadata": {
        "id": "H0M3TSTfxa4h",
        "outputId": "b1c3cd0f-84e3-4348-de66-8962d2ce82fd",
        "colab": {
          "base_uri": "https://localhost:8080/"
        }
      },
      "execution_count": 15,
      "outputs": [
        {
          "output_type": "stream",
          "name": "stdout",
          "text": [
            "Rank : tf.Tensor(3, shape=(), dtype=int32)\n",
            "Size : tf.Tensor(12, shape=(), dtype=int32)\n",
            "Shape : (2, 2, 3)\n"
          ]
        },
        {
          "output_type": "execute_result",
          "data": {
            "text/plain": [
              "(None, None, None)"
            ]
          },
          "metadata": {},
          "execution_count": 15
        }
      ]
    },
    {
      "cell_type": "code",
      "source": [
        "# Finding the shape, rank and size\n",
        "print(f'The shape of the tensor: {tensor.shape}')\n",
        "print(f'The rank of the tensor: {tf.size(tensor)}')\n",
        "print(f'The rank of the tensor: {tf.rank(tensor)}')"
      ],
      "metadata": {
        "colab": {
          "base_uri": "https://localhost:8080/"
        },
        "id": "_MxjOAiQyYyK",
        "outputId": "7413ce0c-f057-4261-96cf-83a330287426"
      },
      "execution_count": 17,
      "outputs": [
        {
          "output_type": "stream",
          "name": "stdout",
          "text": [
            "The shape of the tensor: (2, 2, 3)\n",
            "The rank of the tensor: 12\n",
            "The rank of the tensor: 3\n"
          ]
        }
      ]
    },
    {
      "cell_type": "code",
      "source": [
        "# 3. Create two tensors containing random values between 0 and 1 with shape [5, 300].\n",
        "\n",
        "tensor1=tf.random.uniform(shape=([5,300]), minval=0, maxval=1, dtype=tf.int32)\n",
        "tensor2=tf.random.uniform(shape=(5,300))\n",
        "tensor3=tf.random.uniform(shape=(5,300),  minval=0, maxval=1, dtype=tf.float16)\n",
        "tensor1, tensor2, tensor3"
      ],
      "metadata": {
        "colab": {
          "base_uri": "https://localhost:8080/"
        },
        "id": "wILQ6Vl2y-a2",
        "outputId": "ba8e4e44-2271-4704-dfcb-d839e2acd7b9"
      },
      "execution_count": 31,
      "outputs": [
        {
          "output_type": "execute_result",
          "data": {
            "text/plain": [
              "(<tf.Tensor: shape=(5, 300), dtype=int32, numpy=\n",
              " array([[0, 0, 0, ..., 0, 0, 0],\n",
              "        [0, 0, 0, ..., 0, 0, 0],\n",
              "        [0, 0, 0, ..., 0, 0, 0],\n",
              "        [0, 0, 0, ..., 0, 0, 0],\n",
              "        [0, 0, 0, ..., 0, 0, 0]], dtype=int32)>,\n",
              " <tf.Tensor: shape=(5, 300), dtype=float32, numpy=\n",
              " array([[8.0274928e-01, 6.5804112e-01, 7.5157261e-01, ..., 4.1381252e-01,\n",
              "         9.6413004e-01, 2.7060509e-04],\n",
              "        [8.6550879e-01, 6.9939101e-01, 1.2856960e-01, ..., 4.3856752e-01,\n",
              "         8.9914894e-01, 1.9188619e-01],\n",
              "        [9.1754913e-02, 1.4701545e-01, 1.7523777e-01, ..., 9.6415174e-01,\n",
              "         2.4209619e-01, 5.5769181e-01],\n",
              "        [8.7465262e-01, 8.6813962e-01, 9.8211551e-01, ..., 5.3363216e-01,\n",
              "         8.3900619e-01, 7.3770916e-01],\n",
              "        [1.7703545e-01, 6.0190618e-01, 7.3130178e-01, ..., 6.5849578e-01,\n",
              "         7.4140179e-01, 5.5148757e-01]], dtype=float32)>,\n",
              " <tf.Tensor: shape=(5, 300), dtype=float16, numpy=\n",
              " array([[0.754  , 0.8486 , 0.2686 , ..., 0.586  , 0.0371 , 0.2979 ],\n",
              "        [0.9697 , 0.1045 , 0.963  , ..., 0.575  , 0.881  , 0.1865 ],\n",
              "        [0.3613 , 0.9414 , 0.8213 , ..., 0.4434 , 0.758  , 0.3418 ],\n",
              "        [0.843  , 0.705  , 0.03613, ..., 0.6387 , 0.673  , 0.784  ],\n",
              "        [0.796  , 0.02051, 0.4883 , ..., 0.3828 , 0.741  , 0.8916 ]],\n",
              "       dtype=float16)>)"
            ]
          },
          "metadata": {},
          "execution_count": 31
        }
      ]
    },
    {
      "cell_type": "code",
      "source": [
        "tensor1.shape, tensor2.shape, tensor3.shape"
      ],
      "metadata": {
        "colab": {
          "base_uri": "https://localhost:8080/"
        },
        "id": "h6oC4cH3238_",
        "outputId": "36c461b1-edd8-421a-e7b0-ca8b408d3be2"
      },
      "execution_count": 32,
      "outputs": [
        {
          "output_type": "execute_result",
          "data": {
            "text/plain": [
              "(TensorShape([5, 300]), TensorShape([5, 300]), TensorShape([5, 300]))"
            ]
          },
          "metadata": {},
          "execution_count": 32
        }
      ]
    }
  ]
}