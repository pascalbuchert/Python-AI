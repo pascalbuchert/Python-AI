{
  "nbformat": 4,
  "nbformat_minor": 0,
  "metadata": {
    "colab": {
      "provenance": [],
      "authorship_tag": "ABX9TyODr6rHAkSJkDG0TBD7xrpg",
      "include_colab_link": true
    },
    "kernelspec": {
      "name": "python3",
      "display_name": "Python 3"
    },
    "language_info": {
      "name": "python"
    }
  },
  "cells": [
    {
      "cell_type": "markdown",
      "metadata": {
        "id": "view-in-github",
        "colab_type": "text"
      },
      "source": [
        "<a href=\"https://colab.research.google.com/github/pascalbuchert/Python-AI/blob/main/Copy_of_My_Exercises_00_Fudamentals.ipynb\" target=\"_parent\"><img src=\"https://colab.research.google.com/assets/colab-badge.svg\" alt=\"Open In Colab\"/></a>"
      ]
    },
    {
      "cell_type": "code",
      "execution_count": null,
      "metadata": {
        "id": "1RlLQegz_HrP"
      },
      "outputs": [],
      "source": []
    },
    {
      "cell_type": "markdown",
      "source": [
        "# **00 TensorFlow Fundamentals Exercises**\n",
        "1, Create a vector, scalar, matrix and tensor with values of your choosing using tf.constant().\n",
        "\n",
        "2, Find the shape, rank and size of the tensors you created in 1.\n",
        "\n",
        "3, Create two tensors containing random values between 0 and 1 with shape [5, 300].\n",
        "4, Multiply the two tensors you created in 3 using matrix multiplication.\n",
        "\n",
        "5, Multiply the two tensors you created in 3 using dot product.\n",
        "\n",
        "6, Create a tensor with random values between 0 and 1 with shape [224, 224, 3].\n",
        "\n",
        "7, Find the min and max values of the tensor you created in 6.\n",
        "\n",
        "8, Created a tensor with random values of shape [1, 224, 224, 3] then squeeze it to change the shape to [224, 224, 3].\n",
        "\n",
        "9, Create a tensor with shape [10] using your own choice of values, then find the index which has the maximum value.\n",
        "\n",
        "10, One-hot encode the tensor you created in 9."
      ],
      "metadata": {
        "id": "I-qV_kOy_QQu"
      }
    },
    {
      "cell_type": "code",
      "source": [
        "import tensorflow as tf\n",
        "print(tf.__version__)"
      ],
      "metadata": {
        "colab": {
          "base_uri": "https://localhost:8080/"
        },
        "id": "pZlWuLkhsfIe",
        "outputId": "19eabeb9-fe51-49dd-b656-17e18819b81a"
      },
      "execution_count": null,
      "outputs": [
        {
          "output_type": "stream",
          "name": "stdout",
          "text": [
            "2.15.0\n"
          ]
        }
      ]
    },
    {
      "cell_type": "code",
      "source": [
        "import numpy as np\n",
        "print (np.__version__)"
      ],
      "metadata": {
        "colab": {
          "base_uri": "https://localhost:8080/"
        },
        "id": "jTFJJDahtq6I",
        "outputId": "d7fe0504-2110-4ab4-f3c7-bf87800be07a"
      },
      "execution_count": null,
      "outputs": [
        {
          "output_type": "stream",
          "name": "stdout",
          "text": [
            "1.25.2\n"
          ]
        }
      ]
    },
    {
      "cell_type": "code",
      "source": [
        "# Creating a scalar\n",
        "scalar = tf.constant(8)\n"
      ],
      "metadata": {
        "id": "LP84lWUfsTHR"
      },
      "execution_count": null,
      "outputs": []
    },
    {
      "cell_type": "code",
      "source": [
        "scalar"
      ],
      "metadata": {
        "colab": {
          "base_uri": "https://localhost:8080/"
        },
        "id": "0IOd3dnEs2Xo",
        "outputId": "41a3fb12-e1a3-4154-8a0f-5d8e2562e868"
      },
      "execution_count": null,
      "outputs": [
        {
          "output_type": "execute_result",
          "data": {
            "text/plain": [
              "<tf.Tensor: shape=(), dtype=int32, numpy=8>"
            ]
          },
          "metadata": {},
          "execution_count": 6
        }
      ]
    },
    {
      "cell_type": "code",
      "source": [
        "vector = tf.constant ([1,2,3])\n",
        "vector"
      ],
      "metadata": {
        "colab": {
          "base_uri": "https://localhost:8080/"
        },
        "id": "0jeRwN6ls7Yv",
        "outputId": "9011a315-962c-4a7a-d2af-b0a51ef2b3b2"
      },
      "execution_count": null,
      "outputs": [
        {
          "output_type": "execute_result",
          "data": {
            "text/plain": [
              "<tf.Tensor: shape=(3,), dtype=int32, numpy=array([1, 2, 3], dtype=int32)>"
            ]
          },
          "metadata": {},
          "execution_count": 15
        }
      ]
    },
    {
      "cell_type": "code",
      "source": [
        "matrix=tf.constant ([[1,2,3],[4,5,6]])\n",
        "matrix"
      ],
      "metadata": {
        "colab": {
          "base_uri": "https://localhost:8080/"
        },
        "id": "wtu_DW8huF-g",
        "outputId": "515392fa-7a89-4b97-f08f-7df1f10508d6"
      },
      "execution_count": null,
      "outputs": [
        {
          "output_type": "execute_result",
          "data": {
            "text/plain": [
              "<tf.Tensor: shape=(2, 3), dtype=int32, numpy=\n",
              "array([[1, 2, 3],\n",
              "       [4, 5, 6]], dtype=int32)>"
            ]
          },
          "metadata": {},
          "execution_count": 20
        }
      ]
    },
    {
      "cell_type": "code",
      "source": [
        "tensor=tf.constant ([\n",
        "                      [\n",
        "                          [1,2,3],\n",
        "                          [4,5,6],\n",
        "                      ],\n",
        "                      [\n",
        "                          [7,8,9],\n",
        "                          [10,11,12]\n",
        "                      ],\n",
        "                    ])\n",
        "tensor\n"
      ],
      "metadata": {
        "id": "1IXaRb2NvIMn",
        "outputId": "ec52e329-e671-4767-eeb0-c53dc1f312b2",
        "colab": {
          "base_uri": "https://localhost:8080/"
        }
      },
      "execution_count": null,
      "outputs": [
        {
          "output_type": "execute_result",
          "data": {
            "text/plain": [
              "<tf.Tensor: shape=(2, 2, 3), dtype=int32, numpy=\n",
              "array([[[ 1,  2,  3],\n",
              "        [ 4,  5,  6]],\n",
              "\n",
              "       [[ 7,  8,  9],\n",
              "        [10, 11, 12]]], dtype=int32)>"
            ]
          },
          "metadata": {},
          "execution_count": 22
        }
      ]
    },
    {
      "cell_type": "code",
      "source": [
        "tensor1=tf.constant ([\n",
        "                      [\n",
        "                          [1,2,3],\n",
        "                          [4,5,6],\n",
        "                          [1,2,3],\n",
        "                          [1,2,3],\n",
        "                      ],\n",
        "                      [\n",
        "                          [7,8,9],\n",
        "                          [10,11,12],\n",
        "                          [1,2,3],\n",
        "                          [1,2,3],\n",
        "                      ],\n",
        "                      [\n",
        "                          [7,8,9],\n",
        "                          [10,11,12],\n",
        "                          [1,2,3],\n",
        "                          [1,2,3],\n",
        "                      ],\n",
        "                    ])\n",
        "tensor1"
      ],
      "metadata": {
        "id": "LdgI71sawEMK",
        "outputId": "5a4a62ee-9f0a-4d19-c50f-6cba8edf3fa9",
        "colab": {
          "base_uri": "https://localhost:8080/"
        }
      },
      "execution_count": null,
      "outputs": [
        {
          "output_type": "execute_result",
          "data": {
            "text/plain": [
              "<tf.Tensor: shape=(3, 4, 3), dtype=int32, numpy=\n",
              "array([[[ 1,  2,  3],\n",
              "        [ 4,  5,  6],\n",
              "        [ 1,  2,  3],\n",
              "        [ 1,  2,  3]],\n",
              "\n",
              "       [[ 7,  8,  9],\n",
              "        [10, 11, 12],\n",
              "        [ 1,  2,  3],\n",
              "        [ 1,  2,  3]],\n",
              "\n",
              "       [[ 7,  8,  9],\n",
              "        [10, 11, 12],\n",
              "        [ 1,  2,  3],\n",
              "        [ 1,  2,  3]]], dtype=int32)>"
            ]
          },
          "metadata": {},
          "execution_count": 26
        }
      ]
    },
    {
      "cell_type": "code",
      "source": [
        "scalar, vector , matrix , tensor"
      ],
      "metadata": {
        "id": "JVFZgXqCwfiH",
        "outputId": "3797ca87-535e-473c-f731-b88553294628",
        "colab": {
          "base_uri": "https://localhost:8080/"
        }
      },
      "execution_count": null,
      "outputs": [
        {
          "output_type": "execute_result",
          "data": {
            "text/plain": [
              "(<tf.Tensor: shape=(), dtype=int32, numpy=8>,\n",
              " <tf.Tensor: shape=(3,), dtype=int32, numpy=array([1, 2, 3], dtype=int32)>,\n",
              " <tf.Tensor: shape=(2, 3), dtype=int32, numpy=\n",
              " array([[1, 2, 3],\n",
              "        [4, 5, 6]], dtype=int32)>,\n",
              " <tf.Tensor: shape=(2, 2, 3), dtype=int32, numpy=\n",
              " array([[[ 1,  2,  3],\n",
              "         [ 4,  5,  6]],\n",
              " \n",
              "        [[ 7,  8,  9],\n",
              "         [10, 11, 12]]], dtype=int32)>)"
            ]
          },
          "metadata": {},
          "execution_count": 27
        }
      ]
    },
    {
      "cell_type": "code",
      "source": [
        "tensor.shape"
      ],
      "metadata": {
        "id": "PK-wUTxLw9lH",
        "outputId": "baf9e485-b424-4e6f-bc2a-ed42ad110528",
        "colab": {
          "base_uri": "https://localhost:8080/"
        }
      },
      "execution_count": null,
      "outputs": [
        {
          "output_type": "execute_result",
          "data": {
            "text/plain": [
              "TensorShape([2, 2, 3])"
            ]
          },
          "metadata": {},
          "execution_count": 28
        }
      ]
    },
    {
      "cell_type": "code",
      "source": [
        "tf.rank(tensor)"
      ],
      "metadata": {
        "id": "GWYJtbZfxCWj",
        "outputId": "b349176f-4fbc-4ab8-ebbc-2ca8f4c4cc18",
        "colab": {
          "base_uri": "https://localhost:8080/"
        }
      },
      "execution_count": null,
      "outputs": [
        {
          "output_type": "execute_result",
          "data": {
            "text/plain": [
              "<tf.Tensor: shape=(), dtype=int32, numpy=3>"
            ]
          },
          "metadata": {},
          "execution_count": 29
        }
      ]
    },
    {
      "cell_type": "code",
      "source": [
        "tf.size(tensor)"
      ],
      "metadata": {
        "id": "oAjZizbyxT6V",
        "outputId": "5d692348-520b-46b7-ae91-8c95a87a98ad",
        "colab": {
          "base_uri": "https://localhost:8080/"
        }
      },
      "execution_count": null,
      "outputs": [
        {
          "output_type": "execute_result",
          "data": {
            "text/plain": [
              "<tf.Tensor: shape=(), dtype=int32, numpy=12>"
            ]
          },
          "metadata": {},
          "execution_count": 30
        }
      ]
    },
    {
      "cell_type": "code",
      "source": [
        "print (\"Rank :\", tf.rank(tensor)) , print (\"Size :\", tf.size(tensor)), print ('Shape :', tensor.shape)"
      ],
      "metadata": {
        "id": "H0M3TSTfxa4h",
        "outputId": "55f98b3c-9084-472f-8861-14e8dbf84577",
        "colab": {
          "base_uri": "https://localhost:8080/"
        }
      },
      "execution_count": null,
      "outputs": [
        {
          "output_type": "stream",
          "name": "stdout",
          "text": [
            "Rank : tf.Tensor(3, shape=(), dtype=int32)\n",
            "Size : tf.Tensor(12, shape=(), dtype=int32)\n",
            "Shape : (2, 2, 3)\n"
          ]
        },
        {
          "output_type": "execute_result",
          "data": {
            "text/plain": [
              "(None, None, None)"
            ]
          },
          "metadata": {},
          "execution_count": 34
        }
      ]
    }
  ]
}