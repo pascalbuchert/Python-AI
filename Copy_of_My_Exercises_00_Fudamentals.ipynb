{
  "nbformat": 4,
  "nbformat_minor": 0,
  "metadata": {
    "colab": {
      "provenance": [],
      "authorship_tag": "ABX9TyMJHkS1IFgOww+HN+YkPYdg",
      "include_colab_link": true
    },
    "kernelspec": {
      "name": "python3",
      "display_name": "Python 3"
    },
    "language_info": {
      "name": "python"
    }
  },
  "cells": [
    {
      "cell_type": "markdown",
      "metadata": {
        "id": "view-in-github",
        "colab_type": "text"
      },
      "source": [
        "<a href=\"https://colab.research.google.com/github/pascalbuchert/Python-AI/blob/main/Copy_of_My_Exercises_00_Fudamentals.ipynb\" target=\"_parent\"><img src=\"https://colab.research.google.com/assets/colab-badge.svg\" alt=\"Open In Colab\"/></a>"
      ]
    },
    {
      "cell_type": "code",
      "execution_count": 2,
      "metadata": {
        "id": "1RlLQegz_HrP"
      },
      "outputs": [],
      "source": []
    },
    {
      "cell_type": "markdown",
      "source": [
        "# **00 TensorFlow Fundamentals Exercises**\n",
        "1, Create a vector, scalar, matrix and tensor with values of your choosing using tf.constant().\n",
        "\n",
        "2, Find the shape, rank and size of the tensors you created in 1.\n",
        "\n",
        "3, Create two tensors containing random values between 0 and 1 with shape [5, 300].\n",
        "4, Multiply the two tensors you created in 3 using matrix multiplication.\n",
        "\n",
        "5, Multiply the two tensors you created in 3 using dot product.\n",
        "\n",
        "6, Create a tensor with random values between 0 and 1 with shape [224, 224, 3].\n",
        "\n",
        "7, Find the min and max values of the tensor you created in 6.\n",
        "\n",
        "8, Created a tensor with random values of shape [1, 224, 224, 3] then squeeze it to change the shape to [224, 224, 3].\n",
        "\n",
        "9, Create a tensor with shape [10] using your own choice of values, then find the index which has the maximum value.\n",
        "\n",
        "10, One-hot encode the tensor you created in 9."
      ],
      "metadata": {
        "id": "I-qV_kOy_QQu"
      }
    },
    {
      "cell_type": "code",
      "source": [
        "import tensorflow as tf\n",
        "print(tf.__version__)"
      ],
      "metadata": {
        "colab": {
          "base_uri": "https://localhost:8080/"
        },
        "id": "pZlWuLkhsfIe",
        "outputId": "7f9c62eb-e4ef-4957-c8e5-be789b0d8ed5"
      },
      "execution_count": 3,
      "outputs": [
        {
          "output_type": "stream",
          "name": "stdout",
          "text": [
            "2.15.0\n"
          ]
        }
      ]
    },
    {
      "cell_type": "code",
      "source": [
        "import numpy as np\n",
        "print (np.__version__)"
      ],
      "metadata": {
        "colab": {
          "base_uri": "https://localhost:8080/"
        },
        "id": "jTFJJDahtq6I",
        "outputId": "622d8b91-a766-4d7d-be41-3d855ba56502"
      },
      "execution_count": 4,
      "outputs": [
        {
          "output_type": "stream",
          "name": "stdout",
          "text": [
            "1.25.2\n"
          ]
        }
      ]
    },
    {
      "cell_type": "code",
      "source": [
        "# Creating a scalar\n",
        "scalar = tf.constant(8)\n"
      ],
      "metadata": {
        "id": "LP84lWUfsTHR"
      },
      "execution_count": 5,
      "outputs": []
    },
    {
      "cell_type": "code",
      "source": [
        "scalar"
      ],
      "metadata": {
        "colab": {
          "base_uri": "https://localhost:8080/"
        },
        "id": "0IOd3dnEs2Xo",
        "outputId": "e1bb2ece-0a83-4337-c3f0-6e8c610d9846"
      },
      "execution_count": 6,
      "outputs": [
        {
          "output_type": "execute_result",
          "data": {
            "text/plain": [
              "<tf.Tensor: shape=(), dtype=int32, numpy=8>"
            ]
          },
          "metadata": {},
          "execution_count": 6
        }
      ]
    },
    {
      "cell_type": "code",
      "source": [
        "vector = tf.constant ([1,2,3])\n",
        "vector"
      ],
      "metadata": {
        "colab": {
          "base_uri": "https://localhost:8080/"
        },
        "id": "0jeRwN6ls7Yv",
        "outputId": "01e5bf3b-babd-4ce4-8503-65de0a357378"
      },
      "execution_count": 7,
      "outputs": [
        {
          "output_type": "execute_result",
          "data": {
            "text/plain": [
              "<tf.Tensor: shape=(3,), dtype=int32, numpy=array([1, 2, 3], dtype=int32)>"
            ]
          },
          "metadata": {},
          "execution_count": 7
        }
      ]
    },
    {
      "cell_type": "code",
      "source": [
        "matrix=tf.constant ([[1,2,3],[4,5,6]])\n",
        "matrix"
      ],
      "metadata": {
        "colab": {
          "base_uri": "https://localhost:8080/"
        },
        "id": "wtu_DW8huF-g",
        "outputId": "efcdf5c8-bf85-4681-d9df-1c2ad30cb939"
      },
      "execution_count": 8,
      "outputs": [
        {
          "output_type": "execute_result",
          "data": {
            "text/plain": [
              "<tf.Tensor: shape=(2, 3), dtype=int32, numpy=\n",
              "array([[1, 2, 3],\n",
              "       [4, 5, 6]], dtype=int32)>"
            ]
          },
          "metadata": {},
          "execution_count": 8
        }
      ]
    },
    {
      "cell_type": "code",
      "source": [
        "tensor=tf.constant ([\n",
        "                      [\n",
        "                          [1,2,3],\n",
        "                          [4,5,6],\n",
        "                      ],\n",
        "                      [\n",
        "                          [7,8,9],\n",
        "                          [10,11,12]\n",
        "                      ],\n",
        "                    ])\n",
        "tensor\n"
      ],
      "metadata": {
        "id": "1IXaRb2NvIMn",
        "outputId": "8b4c0ad0-62aa-410d-fe63-bd7240ea5efa",
        "colab": {
          "base_uri": "https://localhost:8080/"
        }
      },
      "execution_count": 9,
      "outputs": [
        {
          "output_type": "execute_result",
          "data": {
            "text/plain": [
              "<tf.Tensor: shape=(2, 2, 3), dtype=int32, numpy=\n",
              "array([[[ 1,  2,  3],\n",
              "        [ 4,  5,  6]],\n",
              "\n",
              "       [[ 7,  8,  9],\n",
              "        [10, 11, 12]]], dtype=int32)>"
            ]
          },
          "metadata": {},
          "execution_count": 9
        }
      ]
    },
    {
      "cell_type": "code",
      "source": [
        "tensor1=tf.constant ([\n",
        "                      [\n",
        "                          [1,2,3],\n",
        "                          [4,5,6],\n",
        "                          [1,2,3],\n",
        "                          [1,2,3],\n",
        "                      ],\n",
        "                      [\n",
        "                          [7,8,9],\n",
        "                          [10,11,12],\n",
        "                          [1,2,3],\n",
        "                          [1,2,3],\n",
        "                      ],\n",
        "                      [\n",
        "                          [7,8,9],\n",
        "                          [10,11,12],\n",
        "                          [1,2,3],\n",
        "                          [1,2,3],\n",
        "                      ],\n",
        "                    ])\n",
        "tensor1"
      ],
      "metadata": {
        "id": "LdgI71sawEMK",
        "outputId": "e93806d4-a7d6-4676-89ff-6068067759fa",
        "colab": {
          "base_uri": "https://localhost:8080/"
        }
      },
      "execution_count": 10,
      "outputs": [
        {
          "output_type": "execute_result",
          "data": {
            "text/plain": [
              "<tf.Tensor: shape=(3, 4, 3), dtype=int32, numpy=\n",
              "array([[[ 1,  2,  3],\n",
              "        [ 4,  5,  6],\n",
              "        [ 1,  2,  3],\n",
              "        [ 1,  2,  3]],\n",
              "\n",
              "       [[ 7,  8,  9],\n",
              "        [10, 11, 12],\n",
              "        [ 1,  2,  3],\n",
              "        [ 1,  2,  3]],\n",
              "\n",
              "       [[ 7,  8,  9],\n",
              "        [10, 11, 12],\n",
              "        [ 1,  2,  3],\n",
              "        [ 1,  2,  3]]], dtype=int32)>"
            ]
          },
          "metadata": {},
          "execution_count": 10
        }
      ]
    },
    {
      "cell_type": "code",
      "source": [
        "scalar, vector , matrix , tensor"
      ],
      "metadata": {
        "id": "JVFZgXqCwfiH",
        "outputId": "8957bd19-d807-443d-aa2a-024b0a2b006d",
        "colab": {
          "base_uri": "https://localhost:8080/"
        }
      },
      "execution_count": 11,
      "outputs": [
        {
          "output_type": "execute_result",
          "data": {
            "text/plain": [
              "(<tf.Tensor: shape=(), dtype=int32, numpy=8>,\n",
              " <tf.Tensor: shape=(3,), dtype=int32, numpy=array([1, 2, 3], dtype=int32)>,\n",
              " <tf.Tensor: shape=(2, 3), dtype=int32, numpy=\n",
              " array([[1, 2, 3],\n",
              "        [4, 5, 6]], dtype=int32)>,\n",
              " <tf.Tensor: shape=(2, 2, 3), dtype=int32, numpy=\n",
              " array([[[ 1,  2,  3],\n",
              "         [ 4,  5,  6]],\n",
              " \n",
              "        [[ 7,  8,  9],\n",
              "         [10, 11, 12]]], dtype=int32)>)"
            ]
          },
          "metadata": {},
          "execution_count": 11
        }
      ]
    },
    {
      "cell_type": "code",
      "source": [
        "tensor.shape"
      ],
      "metadata": {
        "id": "PK-wUTxLw9lH",
        "outputId": "864ecbdc-951a-4004-ef9b-275bda6e5e27",
        "colab": {
          "base_uri": "https://localhost:8080/"
        }
      },
      "execution_count": 12,
      "outputs": [
        {
          "output_type": "execute_result",
          "data": {
            "text/plain": [
              "TensorShape([2, 2, 3])"
            ]
          },
          "metadata": {},
          "execution_count": 12
        }
      ]
    },
    {
      "cell_type": "code",
      "source": [
        "tf.rank(tensor)"
      ],
      "metadata": {
        "id": "GWYJtbZfxCWj",
        "outputId": "f86b9c11-bd5d-40a1-99ae-0f05ac1f828c",
        "colab": {
          "base_uri": "https://localhost:8080/"
        }
      },
      "execution_count": 13,
      "outputs": [
        {
          "output_type": "execute_result",
          "data": {
            "text/plain": [
              "<tf.Tensor: shape=(), dtype=int32, numpy=3>"
            ]
          },
          "metadata": {},
          "execution_count": 13
        }
      ]
    },
    {
      "cell_type": "code",
      "source": [
        "tf.size(tensor)"
      ],
      "metadata": {
        "id": "oAjZizbyxT6V",
        "outputId": "401c5af4-b06b-4f67-e464-34a86164e885",
        "colab": {
          "base_uri": "https://localhost:8080/"
        }
      },
      "execution_count": 14,
      "outputs": [
        {
          "output_type": "execute_result",
          "data": {
            "text/plain": [
              "<tf.Tensor: shape=(), dtype=int32, numpy=12>"
            ]
          },
          "metadata": {},
          "execution_count": 14
        }
      ]
    },
    {
      "cell_type": "code",
      "source": [
        "print (\"Rank :\", tf.rank(tensor)) , print (\"Size :\", tf.size(tensor)), print ('Shape :', tensor.shape)"
      ],
      "metadata": {
        "id": "H0M3TSTfxa4h",
        "outputId": "b1c3cd0f-84e3-4348-de66-8962d2ce82fd",
        "colab": {
          "base_uri": "https://localhost:8080/"
        }
      },
      "execution_count": 15,
      "outputs": [
        {
          "output_type": "stream",
          "name": "stdout",
          "text": [
            "Rank : tf.Tensor(3, shape=(), dtype=int32)\n",
            "Size : tf.Tensor(12, shape=(), dtype=int32)\n",
            "Shape : (2, 2, 3)\n"
          ]
        },
        {
          "output_type": "execute_result",
          "data": {
            "text/plain": [
              "(None, None, None)"
            ]
          },
          "metadata": {},
          "execution_count": 15
        }
      ]
    },
    {
      "cell_type": "code",
      "source": [
        "# Finding the shape, rank and size\n",
        "print(f'The shape of the tensor: {tensor.shape} \\n')\n",
        "print(f'The rank of the tensor: {tf.size(tensor)}')\n",
        "print(f'The rank of the tensor: {tf.rank(tensor)}')"
      ],
      "metadata": {
        "colab": {
          "base_uri": "https://localhost:8080/"
        },
        "id": "_MxjOAiQyYyK",
        "outputId": "f05c8027-8a86-4791-b58c-c62334a1a7e2"
      },
      "execution_count": 40,
      "outputs": [
        {
          "output_type": "stream",
          "name": "stdout",
          "text": [
            "The shape of the tensor: (2, 2, 3) \n",
            "\n",
            "The rank of the tensor: 12\n",
            "The rank of the tensor: 3\n"
          ]
        }
      ]
    },
    {
      "cell_type": "code",
      "source": [
        "# 3. Create two tensors containing random values between 0 and 1 with shape [5, 300].\n",
        "\n",
        "tensor1=tf.random.uniform(shape=([5,300]), minval=0, maxval=1)\n",
        "tensor2=tf.random.uniform(shape=(5,300))\n",
        "tensor3=tf.random.uniform(shape=(5,300),  minval=0, maxval=1, dtype=tf.float16)\n",
        "tensor1, tensor2, tensor3"
      ],
      "metadata": {
        "colab": {
          "base_uri": "https://localhost:8080/"
        },
        "id": "wILQ6Vl2y-a2",
        "outputId": "54f7c1dd-b97a-4148-9e67-6770ac3fce2c"
      },
      "execution_count": 43,
      "outputs": [
        {
          "output_type": "execute_result",
          "data": {
            "text/plain": [
              "(<tf.Tensor: shape=(5, 300), dtype=float32, numpy=\n",
              " array([[0.51422644, 0.78501344, 0.40096712, ..., 0.07534921, 0.5288094 ,\n",
              "         0.52117836],\n",
              "        [0.3265512 , 0.11403716, 0.5561334 , ..., 0.11643136, 0.7320765 ,\n",
              "         0.7860048 ],\n",
              "        [0.31075191, 0.7672703 , 0.90348005, ..., 0.7603648 , 0.28392506,\n",
              "         0.6456026 ],\n",
              "        [0.946419  , 0.9858916 , 0.9947567 , ..., 0.715711  , 0.21062458,\n",
              "         0.24767852],\n",
              "        [0.01469648, 0.12517393, 0.5708058 , ..., 0.8697324 , 0.522437  ,\n",
              "         0.32691395]], dtype=float32)>,\n",
              " <tf.Tensor: shape=(5, 300), dtype=float32, numpy=\n",
              " array([[0.13429701, 0.78589785, 0.11465394, ..., 0.22554135, 0.46752012,\n",
              "         0.59157455],\n",
              "        [0.30267227, 0.4598384 , 0.7151743 , ..., 0.21740663, 0.10570741,\n",
              "         0.20814478],\n",
              "        [0.05029333, 0.36259043, 0.5195594 , ..., 0.87202513, 0.506392  ,\n",
              "         0.00363874],\n",
              "        [0.05174267, 0.4507141 , 0.6124078 , ..., 0.46519303, 0.26456094,\n",
              "         0.00779128],\n",
              "        [0.1918801 , 0.94683313, 0.6055076 , ..., 0.764295  , 0.14371467,\n",
              "         0.94594646]], dtype=float32)>,\n",
              " <tf.Tensor: shape=(5, 300), dtype=float16, numpy=\n",
              " array([[0.3477 , 0.38   , 0.083  , ..., 0.1377 , 0.1943 , 0.542  ],\n",
              "        [0.3877 , 0.3057 , 0.7383 , ..., 0.5977 , 0.745  , 0.4502 ],\n",
              "        [0.4053 , 0.208  , 0.617  , ..., 0.289  , 0.1367 , 0.877  ],\n",
              "        [0.5166 , 0.3896 , 0.1279 , ..., 0.9766 , 0.783  , 0.6904 ],\n",
              "        [0.5215 , 0.83   , 0.5625 , ..., 0.12305, 0.2441 , 0.953  ]],\n",
              "       dtype=float16)>)"
            ]
          },
          "metadata": {},
          "execution_count": 43
        }
      ]
    },
    {
      "cell_type": "code",
      "source": [
        "tensor1.shape, tensor2.shape, tensor3.shape"
      ],
      "metadata": {
        "colab": {
          "base_uri": "https://localhost:8080/"
        },
        "id": "h6oC4cH3238_",
        "outputId": "02d1b361-03e9-4e0b-fd14-932f1bc90f96"
      },
      "execution_count": 33,
      "outputs": [
        {
          "output_type": "execute_result",
          "data": {
            "text/plain": [
              "(TensorShape([5, 300]), TensorShape([5, 300]), TensorShape([5, 300]))"
            ]
          },
          "metadata": {},
          "execution_count": 33
        }
      ]
    },
    {
      "cell_type": "code",
      "source": [
        "# Multiply the two tensors you created in 3 using matrix multiplication."
      ],
      "metadata": {
        "id": "BS_34mfO3KMB"
      },
      "execution_count": null,
      "outputs": []
    },
    {
      "cell_type": "code",
      "source": [
        "# Multiplying\n",
        "print('Shape before the matrix multiplication')\n",
        "print(tensor1.shape , '\\n')\n",
        "print(tensor2.shape , '\\n')"
      ],
      "metadata": {
        "colab": {
          "base_uri": "https://localhost:8080/"
        },
        "id": "8hnwXjDp3Pi9",
        "outputId": "a24e84e4-f451-4294-a81f-c69223f47c42"
      },
      "execution_count": 37,
      "outputs": [
        {
          "output_type": "stream",
          "name": "stdout",
          "text": [
            "Shape before the matrix multiplication\n",
            "(5, 300) \n",
            "\n",
            "(5, 300) \n",
            "\n"
          ]
        }
      ]
    },
    {
      "cell_type": "code",
      "source": [
        "tf.math.multiply (tensor1, tensor2)"
      ],
      "metadata": {
        "colab": {
          "base_uri": "https://localhost:8080/"
        },
        "id": "GgkiLvVt5GmX",
        "outputId": "f963dfdc-1d6c-4028-b4da-5b6191891580"
      },
      "execution_count": 44,
      "outputs": [
        {
          "output_type": "execute_result",
          "data": {
            "text/plain": [
              "<tf.Tensor: shape=(5, 300), dtype=float32, numpy=\n",
              "array([[0.06905907, 0.6169404 , 0.04597246, ..., 0.01699436, 0.24722904,\n",
              "        0.30831584],\n",
              "       [0.09883799, 0.05243866, 0.39773232, ..., 0.02531295, 0.07738591,\n",
              "        0.1636028 ],\n",
              "       [0.01562875, 0.2782049 , 0.46941155, ..., 0.6630572 , 0.14377737,\n",
              "        0.00234918],\n",
              "       [0.04897025, 0.44435525, 0.6091968 , ..., 0.33294377, 0.05572303,\n",
              "        0.00192973],\n",
              "       [0.00281996, 0.11851882, 0.34562725, ..., 0.6647321 , 0.07508186,\n",
              "        0.30924308]], dtype=float32)>"
            ]
          },
          "metadata": {},
          "execution_count": 44
        }
      ]
    },
    {
      "cell_type": "code",
      "source": [
        "resultant_vector = tf.linalg.matmul(tensor1 , tf.transpose(tensor2))\n",
        "print(f'After multiplying the resultant vector is: \\n {resultant_vector} \\n')\n",
        "\n",
        "print(f'The resultant vector shape: \\n {resultant_vector.shape}')"
      ],
      "metadata": {
        "colab": {
          "base_uri": "https://localhost:8080/"
        },
        "id": "QYfA-ffZ9IMZ",
        "outputId": "d86497d8-9ab2-4639-bc45-f1df90bd2132"
      },
      "execution_count": 53,
      "outputs": [
        {
          "output_type": "stream",
          "name": "stdout",
          "text": [
            "After multiplying the resultant vector is: \n",
            " [[76.19787  83.58377  76.59679  77.28656  79.81519 ]\n",
            " [73.52505  78.65989  74.55926  73.188126 78.668686]\n",
            " [73.58214  78.92472  79.27861  75.76319  82.82646 ]\n",
            " [74.56005  81.555984 78.05837  73.11509  77.25167 ]\n",
            " [69.719215 77.6528   74.55645  70.83353  75.209435]] \n",
            "\n",
            "The resultant vector shape: \n",
            " (5, 5)\n"
          ]
        }
      ]
    },
    {
      "cell_type": "code",
      "source": [
        "#5. Multiply the two tensors you created in 3 using dot product.\n",
        "# Compute the dot product\n",
        "dot_product = tf.reduce_sum(tf.multiply(tensor1, tensor2))\n",
        "dot_product.numpy()"
      ],
      "metadata": {
        "colab": {
          "base_uri": "https://localhost:8080/"
        },
        "id": "c1VYmXia9yql",
        "outputId": "4195347d-89f3-4181-db53-02d45562d512"
      },
      "execution_count": 50,
      "outputs": [
        {
          "output_type": "execute_result",
          "data": {
            "text/plain": [
              "382.46094"
            ]
          },
          "metadata": {},
          "execution_count": 50
        }
      ]
    },
    {
      "cell_type": "code",
      "source": [
        "# Using tensordot\n",
        "tf.tensordot(tensor1 , tf.transpose(tensor2) , axes=1)"
      ],
      "metadata": {
        "colab": {
          "base_uri": "https://localhost:8080/"
        },
        "id": "fRA1WPMbCHB3",
        "outputId": "e2c15daf-a918-47cf-e7e8-2f1393f1f503"
      },
      "execution_count": 51,
      "outputs": [
        {
          "output_type": "execute_result",
          "data": {
            "text/plain": [
              "<tf.Tensor: shape=(5, 5), dtype=float32, numpy=\n",
              "array([[76.19787 , 83.58377 , 76.59679 , 77.28656 , 79.81519 ],\n",
              "       [73.52505 , 78.65989 , 74.55926 , 73.188126, 78.668686],\n",
              "       [73.58214 , 78.92472 , 79.27861 , 75.76319 , 82.82646 ],\n",
              "       [74.56005 , 81.555984, 78.05837 , 73.11509 , 77.25167 ],\n",
              "       [69.719215, 77.6528  , 74.55645 , 70.83353 , 75.209435]],\n",
              "      dtype=float32)>"
            ]
          },
          "metadata": {},
          "execution_count": 51
        }
      ]
    },
    {
      "cell_type": "code",
      "source": [
        "#6. Create a tensor with random values between 0 and 1 with shape [224, 224, 3].\n",
        "big_tensor = tf.random.uniform([224,224,3], minval=0, maxval=1)\n",
        "big_tensor"
      ],
      "metadata": {
        "colab": {
          "base_uri": "https://localhost:8080/"
        },
        "id": "noE3fORcCtf6",
        "outputId": "d999ad9b-de4a-4ec5-e00c-29f04e1d1bde"
      },
      "execution_count": 59,
      "outputs": [
        {
          "output_type": "execute_result",
          "data": {
            "text/plain": [
              "<tf.Tensor: shape=(224, 224, 3), dtype=float32, numpy=\n",
              "array([[[0.8099226 , 0.2671739 , 0.49362612],\n",
              "        [0.9933735 , 0.8539411 , 0.7124926 ],\n",
              "        [0.49007034, 0.7493442 , 0.10653436],\n",
              "        ...,\n",
              "        [0.72813666, 0.14077115, 0.548921  ],\n",
              "        [0.49111462, 0.25185168, 0.0344727 ],\n",
              "        [0.7054566 , 0.53752446, 0.44388342]],\n",
              "\n",
              "       [[0.36210394, 0.48879611, 0.08266127],\n",
              "        [0.30857193, 0.39605117, 0.41951978],\n",
              "        [0.497777  , 0.25214553, 0.83635783],\n",
              "        ...,\n",
              "        [0.16957211, 0.3787241 , 0.89068186],\n",
              "        [0.9323337 , 0.2966603 , 0.71113074],\n",
              "        [0.6793971 , 0.93989396, 0.6811974 ]],\n",
              "\n",
              "       [[0.5758449 , 0.25607204, 0.23790228],\n",
              "        [0.32451642, 0.7886219 , 0.0236603 ],\n",
              "        [0.46527267, 0.4049393 , 0.00516796],\n",
              "        ...,\n",
              "        [0.43183148, 0.09044838, 0.2596786 ],\n",
              "        [0.5069891 , 0.6155001 , 0.4077412 ],\n",
              "        [0.26727366, 0.03793049, 0.9034445 ]],\n",
              "\n",
              "       ...,\n",
              "\n",
              "       [[0.8609569 , 0.58088005, 0.58183074],\n",
              "        [0.33602905, 0.61550343, 0.00280666],\n",
              "        [0.22624207, 0.361871  , 0.3215406 ],\n",
              "        ...,\n",
              "        [0.9835086 , 0.9052671 , 0.8545749 ],\n",
              "        [0.8579577 , 0.7924231 , 0.5767617 ],\n",
              "        [0.42273283, 0.35386038, 0.79488933]],\n",
              "\n",
              "       [[0.9955548 , 0.4445206 , 0.0256815 ],\n",
              "        [0.6415025 , 0.77986085, 0.8010876 ],\n",
              "        [0.79851365, 0.73048294, 0.38699138],\n",
              "        ...,\n",
              "        [0.86963904, 0.39244413, 0.66345954],\n",
              "        [0.21085334, 0.14921772, 0.33282077],\n",
              "        [0.16268909, 0.82219803, 0.76314056]],\n",
              "\n",
              "       [[0.40782523, 0.6151624 , 0.859759  ],\n",
              "        [0.03714442, 0.13197076, 0.36032248],\n",
              "        [0.16236985, 0.921685  , 0.07234395],\n",
              "        ...,\n",
              "        [0.7045375 , 0.41691303, 0.8721621 ],\n",
              "        [0.18627656, 0.26563096, 0.2856903 ],\n",
              "        [0.5847924 , 0.06106043, 0.9079864 ]]], dtype=float32)>"
            ]
          },
          "metadata": {},
          "execution_count": 59
        }
      ]
    },
    {
      "cell_type": "code",
      "source": [
        "# Checking the min and max value of our tensor\n",
        "print(f'Maximum value: {tf.reduce_max(big_tensor)}')\n",
        "print(f'Minimum value: {tf.reduce_min(big_tensor)}')"
      ],
      "metadata": {
        "colab": {
          "base_uri": "https://localhost:8080/"
        },
        "id": "5gzJMVFlDqM5",
        "outputId": "2fabb9f5-a4fa-4c1c-eda7-c227e6ffef9a"
      },
      "execution_count": 60,
      "outputs": [
        {
          "output_type": "stream",
          "name": "stdout",
          "text": [
            "Maximum value: 0.9999932050704956\n",
            "Minimum value: 3.0279159545898438e-05\n"
          ]
        }
      ]
    },
    {
      "cell_type": "code",
      "source": [
        "# Checking the min and max value of our tensor\n",
        "print('Maximum value: {tf.reduce_max(big_tensor)}')\n",
        "print('Minimum value: {tf.reduce_min(big_tensor)}')"
      ],
      "metadata": {
        "colab": {
          "base_uri": "https://localhost:8080/"
        },
        "id": "x79nit1GDxVZ",
        "outputId": "19532c14-3149-42b4-cf5c-dc2c2331a0bc"
      },
      "execution_count": 61,
      "outputs": [
        {
          "output_type": "stream",
          "name": "stdout",
          "text": [
            "Maximum value: {tf.reduce_max(big_tensor)}\n",
            "Minimum value: {tf.reduce_min(big_tensor)}\n"
          ]
        }
      ]
    },
    {
      "cell_type": "code",
      "source": [
        "# Checking the min and max value of our tensor\n",
        "print('Maximum value: ',tf.reduce_max(big_tensor))\n",
        "print('Minimum value: ', tf.reduce_min(big_tensor))"
      ],
      "metadata": {
        "colab": {
          "base_uri": "https://localhost:8080/"
        },
        "id": "7oJW511XEAVD",
        "outputId": "02794334-67d7-446f-db39-6e685e8e0c6d"
      },
      "execution_count": 63,
      "outputs": [
        {
          "output_type": "stream",
          "name": "stdout",
          "text": [
            "Maximum value:  tf.Tensor(0.9999932, shape=(), dtype=float32)\n",
            "Minimum value:  tf.Tensor(3.027916e-05, shape=(), dtype=float32)\n"
          ]
        }
      ]
    },
    {
      "cell_type": "code",
      "source": [
        "#7. Find the min and max values of the tensor you created in 6.\n",
        "# Finding the minimum\n",
        "minimum = tf.math.reduce_min(big_tensor)\n",
        "print(f'The minimum value is: {minimum}')"
      ],
      "metadata": {
        "colab": {
          "base_uri": "https://localhost:8080/"
        },
        "id": "zkhGZb9yEbYB",
        "outputId": "f2d2f879-713f-4b41-f5ce-45ce88308b5f"
      },
      "execution_count": 64,
      "outputs": [
        {
          "output_type": "stream",
          "name": "stdout",
          "text": [
            "The minimum value is: 3.0279159545898438e-05\n"
          ]
        }
      ]
    },
    {
      "cell_type": "code",
      "source": [
        "# Finding the minimum\n",
        "maximum = tf.math.reduce_max(big_tensor)\n",
        "print(f'The maximum value is: {maximum}')"
      ],
      "metadata": {
        "colab": {
          "base_uri": "https://localhost:8080/"
        },
        "id": "XPjSBpNiEuLn",
        "outputId": "75b958da-3f37-43b8-f784-cd21826e9ef7"
      },
      "execution_count": 65,
      "outputs": [
        {
          "output_type": "stream",
          "name": "stdout",
          "text": [
            "The maximum value is: 0.9999932050704956\n"
          ]
        }
      ]
    },
    {
      "cell_type": "markdown",
      "source": [],
      "metadata": {
        "id": "m-PCyKaEE8hb"
      }
    },
    {
      "cell_type": "code",
      "source": [
        "#  Created a tensor with random values of shape [1, 224, 224, 3]\n",
        "#  then squeeze it to change the shape to [224, 224, 3].\n",
        "\n",
        "unsqueezed_tensor=tf.random.uniform([1,224,224,3])\n",
        "unsqueezed_tensor, unsqueezed_tensor.shape, unsqueezed_tensor.numpy"
      ],
      "metadata": {
        "colab": {
          "base_uri": "https://localhost:8080/"
        },
        "id": "LZwbH3F9E5P7",
        "outputId": "e0809e03-5956-4d06-ae58-c1bd2c8f3ee1"
      },
      "execution_count": 70,
      "outputs": [
        {
          "output_type": "execute_result",
          "data": {
            "text/plain": [
              "(<tf.Tensor: shape=(1, 224, 224, 3), dtype=float32, numpy=\n",
              " array([[[[0.35118496, 0.01266646, 0.30242097],\n",
              "          [0.14470696, 0.5305339 , 0.7567191 ],\n",
              "          [0.721261  , 0.1683687 , 0.5200244 ],\n",
              "          ...,\n",
              "          [0.6549908 , 0.8958285 , 0.46285844],\n",
              "          [0.76270056, 0.17602384, 0.9442265 ],\n",
              "          [0.3526944 , 0.43091786, 0.05862391]],\n",
              " \n",
              "         [[0.26672828, 0.1355784 , 0.2934003 ],\n",
              "          [0.75921214, 0.46636415, 0.30123878],\n",
              "          [0.9824641 , 0.49148953, 0.08356845],\n",
              "          ...,\n",
              "          [0.82925963, 0.6720706 , 0.95956945],\n",
              "          [0.8419291 , 0.7581476 , 0.49147522],\n",
              "          [0.78068316, 0.04119182, 0.5533539 ]],\n",
              " \n",
              "         [[0.25516307, 0.99788773, 0.523705  ],\n",
              "          [0.05302119, 0.19380212, 0.5647352 ],\n",
              "          [0.5686238 , 0.30895495, 0.8203471 ],\n",
              "          ...,\n",
              "          [0.05618727, 0.94623077, 0.2846676 ],\n",
              "          [0.27590954, 0.6071942 , 0.41027665],\n",
              "          [0.9184736 , 0.73701537, 0.5910864 ]],\n",
              " \n",
              "         ...,\n",
              " \n",
              "         [[0.41360736, 0.8447075 , 0.6214646 ],\n",
              "          [0.24430561, 0.63536584, 0.27792716],\n",
              "          [0.6410849 , 0.4181913 , 0.17016268],\n",
              "          ...,\n",
              "          [0.0486623 , 0.74212265, 0.14090669],\n",
              "          [0.7798929 , 0.6036434 , 0.19912207],\n",
              "          [0.1741811 , 0.14572883, 0.32629168]],\n",
              " \n",
              "         [[0.6013764 , 0.47626984, 0.8520613 ],\n",
              "          [0.595222  , 0.95144475, 0.424289  ],\n",
              "          [0.49649775, 0.21655738, 0.17198825],\n",
              "          ...,\n",
              "          [0.35163236, 0.483122  , 0.05167174],\n",
              "          [0.13876438, 0.1162293 , 0.10455167],\n",
              "          [0.22221255, 0.5597607 , 0.69069266]],\n",
              " \n",
              "         [[0.39394212, 0.6810204 , 0.6698923 ],\n",
              "          [0.4942448 , 0.4158578 , 0.7688812 ],\n",
              "          [0.9968945 , 0.726179  , 0.14284754],\n",
              "          ...,\n",
              "          [0.3872968 , 0.43669105, 0.3546046 ],\n",
              "          [0.06095767, 0.0389632 , 0.43255138],\n",
              "          [0.38808393, 0.5784048 , 0.05229843]]]], dtype=float32)>,\n",
              " TensorShape([1, 224, 224, 3]),\n",
              " <bound method _EagerTensorBase.numpy of <tf.Tensor: shape=(1, 224, 224, 3), dtype=float32, numpy=\n",
              " array([[[[0.35118496, 0.01266646, 0.30242097],\n",
              "          [0.14470696, 0.5305339 , 0.7567191 ],\n",
              "          [0.721261  , 0.1683687 , 0.5200244 ],\n",
              "          ...,\n",
              "          [0.6549908 , 0.8958285 , 0.46285844],\n",
              "          [0.76270056, 0.17602384, 0.9442265 ],\n",
              "          [0.3526944 , 0.43091786, 0.05862391]],\n",
              " \n",
              "         [[0.26672828, 0.1355784 , 0.2934003 ],\n",
              "          [0.75921214, 0.46636415, 0.30123878],\n",
              "          [0.9824641 , 0.49148953, 0.08356845],\n",
              "          ...,\n",
              "          [0.82925963, 0.6720706 , 0.95956945],\n",
              "          [0.8419291 , 0.7581476 , 0.49147522],\n",
              "          [0.78068316, 0.04119182, 0.5533539 ]],\n",
              " \n",
              "         [[0.25516307, 0.99788773, 0.523705  ],\n",
              "          [0.05302119, 0.19380212, 0.5647352 ],\n",
              "          [0.5686238 , 0.30895495, 0.8203471 ],\n",
              "          ...,\n",
              "          [0.05618727, 0.94623077, 0.2846676 ],\n",
              "          [0.27590954, 0.6071942 , 0.41027665],\n",
              "          [0.9184736 , 0.73701537, 0.5910864 ]],\n",
              " \n",
              "         ...,\n",
              " \n",
              "         [[0.41360736, 0.8447075 , 0.6214646 ],\n",
              "          [0.24430561, 0.63536584, 0.27792716],\n",
              "          [0.6410849 , 0.4181913 , 0.17016268],\n",
              "          ...,\n",
              "          [0.0486623 , 0.74212265, 0.14090669],\n",
              "          [0.7798929 , 0.6036434 , 0.19912207],\n",
              "          [0.1741811 , 0.14572883, 0.32629168]],\n",
              " \n",
              "         [[0.6013764 , 0.47626984, 0.8520613 ],\n",
              "          [0.595222  , 0.95144475, 0.424289  ],\n",
              "          [0.49649775, 0.21655738, 0.17198825],\n",
              "          ...,\n",
              "          [0.35163236, 0.483122  , 0.05167174],\n",
              "          [0.13876438, 0.1162293 , 0.10455167],\n",
              "          [0.22221255, 0.5597607 , 0.69069266]],\n",
              " \n",
              "         [[0.39394212, 0.6810204 , 0.6698923 ],\n",
              "          [0.4942448 , 0.4158578 , 0.7688812 ],\n",
              "          [0.9968945 , 0.726179  , 0.14284754],\n",
              "          ...,\n",
              "          [0.3872968 , 0.43669105, 0.3546046 ],\n",
              "          [0.06095767, 0.0389632 , 0.43255138],\n",
              "          [0.38808393, 0.5784048 , 0.05229843]]]], dtype=float32)>>)"
            ]
          },
          "metadata": {},
          "execution_count": 70
        }
      ]
    },
    {
      "cell_type": "code",
      "source": [
        "squeezed_tensor =tf.squeeze(unsqueezed_tensor)\n",
        "squeezed_tensor"
      ],
      "metadata": {
        "colab": {
          "base_uri": "https://localhost:8080/"
        },
        "id": "jlfGABFIF3Jj",
        "outputId": "4252b129-9520-40fb-a250-7e2da6139fa8"
      },
      "execution_count": 71,
      "outputs": [
        {
          "output_type": "execute_result",
          "data": {
            "text/plain": [
              "<tf.Tensor: shape=(224, 224, 3), dtype=float32, numpy=\n",
              "array([[[0.35118496, 0.01266646, 0.30242097],\n",
              "        [0.14470696, 0.5305339 , 0.7567191 ],\n",
              "        [0.721261  , 0.1683687 , 0.5200244 ],\n",
              "        ...,\n",
              "        [0.6549908 , 0.8958285 , 0.46285844],\n",
              "        [0.76270056, 0.17602384, 0.9442265 ],\n",
              "        [0.3526944 , 0.43091786, 0.05862391]],\n",
              "\n",
              "       [[0.26672828, 0.1355784 , 0.2934003 ],\n",
              "        [0.75921214, 0.46636415, 0.30123878],\n",
              "        [0.9824641 , 0.49148953, 0.08356845],\n",
              "        ...,\n",
              "        [0.82925963, 0.6720706 , 0.95956945],\n",
              "        [0.8419291 , 0.7581476 , 0.49147522],\n",
              "        [0.78068316, 0.04119182, 0.5533539 ]],\n",
              "\n",
              "       [[0.25516307, 0.99788773, 0.523705  ],\n",
              "        [0.05302119, 0.19380212, 0.5647352 ],\n",
              "        [0.5686238 , 0.30895495, 0.8203471 ],\n",
              "        ...,\n",
              "        [0.05618727, 0.94623077, 0.2846676 ],\n",
              "        [0.27590954, 0.6071942 , 0.41027665],\n",
              "        [0.9184736 , 0.73701537, 0.5910864 ]],\n",
              "\n",
              "       ...,\n",
              "\n",
              "       [[0.41360736, 0.8447075 , 0.6214646 ],\n",
              "        [0.24430561, 0.63536584, 0.27792716],\n",
              "        [0.6410849 , 0.4181913 , 0.17016268],\n",
              "        ...,\n",
              "        [0.0486623 , 0.74212265, 0.14090669],\n",
              "        [0.7798929 , 0.6036434 , 0.19912207],\n",
              "        [0.1741811 , 0.14572883, 0.32629168]],\n",
              "\n",
              "       [[0.6013764 , 0.47626984, 0.8520613 ],\n",
              "        [0.595222  , 0.95144475, 0.424289  ],\n",
              "        [0.49649775, 0.21655738, 0.17198825],\n",
              "        ...,\n",
              "        [0.35163236, 0.483122  , 0.05167174],\n",
              "        [0.13876438, 0.1162293 , 0.10455167],\n",
              "        [0.22221255, 0.5597607 , 0.69069266]],\n",
              "\n",
              "       [[0.39394212, 0.6810204 , 0.6698923 ],\n",
              "        [0.4942448 , 0.4158578 , 0.7688812 ],\n",
              "        [0.9968945 , 0.726179  , 0.14284754],\n",
              "        ...,\n",
              "        [0.3872968 , 0.43669105, 0.3546046 ],\n",
              "        [0.06095767, 0.0389632 , 0.43255138],\n",
              "        [0.38808393, 0.5784048 , 0.05229843]]], dtype=float32)>"
            ]
          },
          "metadata": {},
          "execution_count": 71
        }
      ]
    },
    {
      "cell_type": "code",
      "source": [
        "\n",
        "# Tensor with shape [224 , 224 , 3]\n",
        "unsqueezed_tensor = tf.random.Generator.from_seed(42)\n",
        "unsqueezed_tensor = unsqueezed_tensor.normal(shape = (2, 1 , 224 , 224 , 3))\n",
        "\n",
        "print(f'The shape before squeezing: {unsqueezed_tensor.shape}')\n"
      ],
      "metadata": {
        "colab": {
          "base_uri": "https://localhost:8080/"
        },
        "id": "0nMc7ASgGNLE",
        "outputId": "d1bd41e3-54cf-4cd2-8166-4f7a3170c1ad"
      },
      "execution_count": 76,
      "outputs": [
        {
          "output_type": "stream",
          "name": "stdout",
          "text": [
            "The shape before squeezing: (2, 1, 224, 224, 3)\n"
          ]
        }
      ]
    },
    {
      "cell_type": "code",
      "source": [
        "# And we are squeezing it\n",
        "squeezed_tensor = tf.squeeze(unsqueezed_tensor)\n",
        "print(f'The shape after squeezing: {squeezed_tensor.shape}')"
      ],
      "metadata": {
        "colab": {
          "base_uri": "https://localhost:8080/"
        },
        "id": "dhS5fOqoGYNr",
        "outputId": "bf88af96-c076-434c-fa9d-8dede4aaa4b1"
      },
      "execution_count": 77,
      "outputs": [
        {
          "output_type": "stream",
          "name": "stdout",
          "text": [
            "The shape after squeezing: (2, 224, 224, 3)\n"
          ]
        }
      ]
    },
    {
      "cell_type": "code",
      "source": [
        "# Create a tensor with shape [10] using your own choice of values,\n",
        "# then find the index which has the maximum value.\n",
        "\n",
        "tensor_ten =tf.random.uniform([10], minval=0, maxval=10)\n",
        "tensor_ten.shape, tensor_ten.numpy"
      ],
      "metadata": {
        "colab": {
          "base_uri": "https://localhost:8080/"
        },
        "id": "Y-NMaU2cG2sv",
        "outputId": "2f128d77-afc2-49bf-f819-6ee75955527d"
      },
      "execution_count": 89,
      "outputs": [
        {
          "output_type": "execute_result",
          "data": {
            "text/plain": [
              "(TensorShape([10]),\n",
              " <bound method _EagerTensorBase.numpy of <tf.Tensor: shape=(10,), dtype=float32, numpy=\n",
              " array([1.1088431 , 0.6041181 , 2.5991285 , 7.1758184 , 7.787819  ,\n",
              "        7.3056307 , 0.97208023, 1.0907018 , 3.5740185 , 3.3802903 ],\n",
              "       dtype=float32)>>)"
            ]
          },
          "metadata": {},
          "execution_count": 89
        }
      ]
    },
    {
      "cell_type": "code",
      "source": [
        "max_value=tf.math.argmax (tensor_ten)\n",
        "max_value\n",
        "print(f'The indices where the value is maximum: {max_value}')\n",
        "print(f'The maximum value was: {tensor_ten[max_value]}')"
      ],
      "metadata": {
        "colab": {
          "base_uri": "https://localhost:8080/"
        },
        "id": "rJTXT2MVHN5U",
        "outputId": "cee324ff-f44c-4789-dc5c-ccd10bcff726"
      },
      "execution_count": 90,
      "outputs": [
        {
          "output_type": "stream",
          "name": "stdout",
          "text": [
            "The indices where the value is maximum: 4\n",
            "The maximum value was: 7.787818908691406\n"
          ]
        }
      ]
    },
    {
      "cell_type": "code",
      "source": [
        "# 10. One-hot encode the tensor you created in 9.\n",
        "# Throw's an error since I had floating numbers in my tensor, casting to int solved!\n",
        "tf.cast(tensor_ten , dtype=tf.int32)"
      ],
      "metadata": {
        "colab": {
          "base_uri": "https://localhost:8080/"
        },
        "id": "PAmwq8A_IjbQ",
        "outputId": "7c6bb501-f9ec-4219-863e-13654952f6ef"
      },
      "execution_count": 91,
      "outputs": [
        {
          "output_type": "execute_result",
          "data": {
            "text/plain": [
              "<tf.Tensor: shape=(10,), dtype=int32, numpy=array([1, 0, 2, 7, 7, 7, 0, 1, 3, 3], dtype=int32)>"
            ]
          },
          "metadata": {},
          "execution_count": 91
        }
      ]
    },
    {
      "cell_type": "code",
      "source": [
        "# One hot encoding the tensor of shape 10\n",
        "tf.one_hot(tf.cast(tensor_ten , dtype=tf.int32) , depth = 10)"
      ],
      "metadata": {
        "colab": {
          "base_uri": "https://localhost:8080/"
        },
        "id": "ZmjDYdIeI-k5",
        "outputId": "962fdabe-76ce-452f-ed6a-2eb6a58469f6"
      },
      "execution_count": 93,
      "outputs": [
        {
          "output_type": "execute_result",
          "data": {
            "text/plain": [
              "<tf.Tensor: shape=(10, 10), dtype=float32, numpy=\n",
              "array([[0., 1., 0., 0., 0., 0., 0., 0., 0., 0.],\n",
              "       [1., 0., 0., 0., 0., 0., 0., 0., 0., 0.],\n",
              "       [0., 0., 1., 0., 0., 0., 0., 0., 0., 0.],\n",
              "       [0., 0., 0., 0., 0., 0., 0., 1., 0., 0.],\n",
              "       [0., 0., 0., 0., 0., 0., 0., 1., 0., 0.],\n",
              "       [0., 0., 0., 0., 0., 0., 0., 1., 0., 0.],\n",
              "       [1., 0., 0., 0., 0., 0., 0., 0., 0., 0.],\n",
              "       [0., 1., 0., 0., 0., 0., 0., 0., 0., 0.],\n",
              "       [0., 0., 0., 1., 0., 0., 0., 0., 0., 0.],\n",
              "       [0., 0., 0., 1., 0., 0., 0., 0., 0., 0.]], dtype=float32)>"
            ]
          },
          "metadata": {},
          "execution_count": 93
        }
      ]
    }
  ]
}